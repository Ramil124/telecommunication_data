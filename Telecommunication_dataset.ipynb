{
 "cells": [
  {
   "cell_type": "markdown",
   "id": "36fb3207",
   "metadata": {},
   "source": [
    "## Telecommunication dataset\n",
    "\n",
    "#### Ex customer prediction"
   ]
  },
  {
   "cell_type": "code",
   "execution_count": 1,
   "id": "6c67c763",
   "metadata": {},
   "outputs": [
    {
     "name": "stdout",
     "output_type": "stream",
     "text": [
      "D:\\Data analysis\\Python\\Python_sublessons\\Kaggle_competition\\Telecom_cust_rev_dataset\\crm1.csv\n",
      "D:\\Data analysis\\Python\\Python_sublessons\\Kaggle_competition\\Telecom_cust_rev_dataset\\device1.csv\n",
      "D:\\Data analysis\\Python\\Python_sublessons\\Kaggle_competition\\Telecom_cust_rev_dataset\\rev1.csv\n"
     ]
    }
   ],
   "source": [
    "import pandas as pd\n",
    "import numpy as np\n",
    "import matplotlib.pyplot as plt\n",
    "import seaborn as sns\n",
    "\n",
    "import warnings\n",
    "\n",
    "%matplotlib inline\n",
    "\n",
    "# Changing scientific numbers to float\n",
    "np.set_printoptions(formatter = {'float_kind':'{:f}'.format})\n",
    "\n",
    "## To increase the size of thw sns plot\n",
    "sns.set(rc = {'figure.figsize':(8,6)})\n",
    "\n",
    "warnings.filterwarnings(action = 'ignore')\n",
    "\n",
    "## Listing all files_under the input directory\n",
    "import os\n",
    "for dirname, _,filenames in os.walk('D:\\Data analysis\\Python\\Python_sublessons\\Kaggle_competition\\Telecom_cust_rev_dataset'):\n",
    "    for filename in filenames:\n",
    "        print(os.path.join(dirname, filename))\n",
    "\n",
    "## Importing datetime libraries\n",
    "\n",
    "import itertools\n",
    "import datetime\n",
    "\n",
    "\n",
    "## Scikitlearn libraries\n",
    "\n",
    "from sklearn.model_selection import train_test_split\n",
    "from sklearn.tree import DecisionTreeClassifier, export_graphviz\n",
    "from sklearn.ensemble import RandomForestClassifier\n",
    "from sklearn.metrics import accuracy_score, r2_score, confusion_matrix, classification_report"
   ]
  },
  {
   "cell_type": "code",
   "execution_count": 3,
   "id": "f0620e8d",
   "metadata": {},
   "outputs": [],
   "source": [
    "os.chdir('D:\\Data analysis\\Python\\Python_sublessons\\Kaggle_competition\\Telecom_cust_rev_dataset')"
   ]
  },
  {
   "cell_type": "markdown",
   "id": "55f3a203",
   "metadata": {},
   "source": [
    "## Loading and Merging datasets"
   ]
  },
  {
   "cell_type": "code",
   "execution_count": 4,
   "id": "b2ae385d",
   "metadata": {},
   "outputs": [],
   "source": [
    "## Loading datasets\n",
    "\n",
    "## crm dataset\n",
    "crm = pd.read_csv('./crm1.csv')\n",
    "shape = crm.shape[0], crm.shape[1]\n",
    "\n",
    "# device dataset\n",
    "device = pd.read_csv('./device1.csv')\n",
    "shape = device.shape[0], device.shape[1]\n",
    "\n",
    "# revenue dataset\n",
    "revenue = pd.read_csv('./rev1.csv')\n",
    "shape = revenue.shape[0], revenue.shape[1]"
   ]
  },
  {
   "cell_type": "code",
   "execution_count": 5,
   "id": "bb9e0b63",
   "metadata": {},
   "outputs": [],
   "source": [
    "# Merging datasets\n",
    "\n",
    "merged_data = pd.merge(pd.merge(crm, device, on = 'msisdn'), revenue, on = 'msisdn')"
   ]
  },
  {
   "cell_type": "code",
   "execution_count": null,
   "id": "2124ae7b",
   "metadata": {},
   "outputs": [],
   "source": [
    "merged_data = merged_data.copy()"
   ]
  },
  {
   "cell_type": "code",
   "execution_count": 6,
   "id": "fa637995",
   "metadata": {},
   "outputs": [
    {
     "name": "stdout",
     "output_type": "stream",
     "text": [
      "<class 'pandas.core.frame.DataFrame'>\n",
      "Int64Index: 213233 entries, 0 to 213232\n",
      "Data columns (total 13 columns):\n",
      " #   Column         Non-Null Count   Dtype  \n",
      "---  ------         --------------   -----  \n",
      " 0   msisdn         213233 non-null  object \n",
      " 1   gender         166220 non-null  object \n",
      " 2   year_of_birth  213212 non-null  float64\n",
      " 3   system_status  213233 non-null  object \n",
      " 4   mobile_type    213233 non-null  object \n",
      " 5   value_segment  213233 non-null  object \n",
      " 6   imei_tac       213233 non-null  object \n",
      " 7   brand_name     211227 non-null  object \n",
      " 8   model_name     211227 non-null  object \n",
      " 9   os_name        159007 non-null  object \n",
      " 10  os_vendor      160905 non-null  object \n",
      " 11  week_number    213233 non-null  int64  \n",
      " 12  revenue_usd    213233 non-null  float64\n",
      "dtypes: float64(2), int64(1), object(10)\n",
      "memory usage: 22.8+ MB\n"
     ]
    }
   ],
   "source": [
    "merged_data.info()"
   ]
  },
  {
   "cell_type": "code",
   "execution_count": 7,
   "id": "a75d396a",
   "metadata": {},
   "outputs": [
    {
     "data": {
      "text/html": [
       "<div>\n",
       "<style scoped>\n",
       "    .dataframe tbody tr th:only-of-type {\n",
       "        vertical-align: middle;\n",
       "    }\n",
       "\n",
       "    .dataframe tbody tr th {\n",
       "        vertical-align: top;\n",
       "    }\n",
       "\n",
       "    .dataframe thead th {\n",
       "        text-align: right;\n",
       "    }\n",
       "</style>\n",
       "<table border=\"1\" class=\"dataframe\">\n",
       "  <thead>\n",
       "    <tr style=\"text-align: right;\">\n",
       "      <th></th>\n",
       "      <th>Total</th>\n",
       "      <th>Percent</th>\n",
       "    </tr>\n",
       "  </thead>\n",
       "  <tbody>\n",
       "    <tr>\n",
       "      <th>os_name</th>\n",
       "      <td>54226.0</td>\n",
       "      <td>0.254304</td>\n",
       "    </tr>\n",
       "    <tr>\n",
       "      <th>os_vendor</th>\n",
       "      <td>52328.0</td>\n",
       "      <td>0.245403</td>\n",
       "    </tr>\n",
       "    <tr>\n",
       "      <th>gender</th>\n",
       "      <td>47013.0</td>\n",
       "      <td>0.220477</td>\n",
       "    </tr>\n",
       "    <tr>\n",
       "      <th>brand_name</th>\n",
       "      <td>2006.0</td>\n",
       "      <td>0.009408</td>\n",
       "    </tr>\n",
       "    <tr>\n",
       "      <th>model_name</th>\n",
       "      <td>2006.0</td>\n",
       "      <td>0.009408</td>\n",
       "    </tr>\n",
       "    <tr>\n",
       "      <th>year_of_birth</th>\n",
       "      <td>21.0</td>\n",
       "      <td>0.000098</td>\n",
       "    </tr>\n",
       "  </tbody>\n",
       "</table>\n",
       "</div>"
      ],
      "text/plain": [
       "                 Total   Percent\n",
       "os_name        54226.0  0.254304\n",
       "os_vendor      52328.0  0.245403\n",
       "gender         47013.0  0.220477\n",
       "brand_name      2006.0  0.009408\n",
       "model_name      2006.0  0.009408\n",
       "year_of_birth     21.0  0.000098"
      ]
     },
     "execution_count": 7,
     "metadata": {},
     "output_type": "execute_result"
    }
   ],
   "source": [
    "total = merged_data.isnull().sum()\n",
    "pct = total/merged_data.shape[0]\n",
    "\n",
    "missing_data = pd.concat([total, pct], keys = ['Total', 'Percent'], axis = 1).sort_values(by = 'Total', ascending=False)\n",
    "\n",
    "missing_data[missing_data > 0].head(6)"
   ]
  },
  {
   "cell_type": "code",
   "execution_count": 8,
   "id": "762132e3",
   "metadata": {},
   "outputs": [
    {
     "data": {
      "text/plain": [
       "msisdn           0\n",
       "gender           0\n",
       "year_of_birth    0\n",
       "system_status    0\n",
       "mobile_type      0\n",
       "value_segment    0\n",
       "imei_tac         0\n",
       "brand_name       0\n",
       "model_name       0\n",
       "os_name          0\n",
       "os_vendor        0\n",
       "week_number      0\n",
       "revenue_usd      0\n",
       "dtype: int64"
      ]
     },
     "execution_count": 8,
     "metadata": {},
     "output_type": "execute_result"
    }
   ],
   "source": [
    "## Because the NaN values are not greater than 2% .We will simply drop the NaN values row wise\n",
    "\n",
    "merged_data = merged_data.dropna()\n",
    "\n",
    "merged_data.isnull().sum()"
   ]
  },
  {
   "cell_type": "markdown",
   "id": "0304d69f",
   "metadata": {},
   "source": [
    "## Converting categorical columns"
   ]
  },
  {
   "cell_type": "markdown",
   "id": "ce9c594a",
   "metadata": {},
   "source": [
    "### gender"
   ]
  },
  {
   "cell_type": "code",
   "execution_count": 11,
   "id": "acb5df90",
   "metadata": {},
   "outputs": [
    {
     "data": {
      "text/plain": [
       "array(['Male', 'Female', 'MALE', 'FEMALE', 'M'], dtype=object)"
      ]
     },
     "execution_count": 11,
     "metadata": {},
     "output_type": "execute_result"
    }
   ],
   "source": [
    "merged_data['gender'].unique()"
   ]
  },
  {
   "cell_type": "code",
   "execution_count": 12,
   "id": "9e3ae87e",
   "metadata": {},
   "outputs": [
    {
     "data": {
      "text/html": [
       "<div>\n",
       "<style scoped>\n",
       "    .dataframe tbody tr th:only-of-type {\n",
       "        vertical-align: middle;\n",
       "    }\n",
       "\n",
       "    .dataframe tbody tr th {\n",
       "        vertical-align: top;\n",
       "    }\n",
       "\n",
       "    .dataframe thead th {\n",
       "        text-align: right;\n",
       "    }\n",
       "</style>\n",
       "<table border=\"1\" class=\"dataframe\">\n",
       "  <thead>\n",
       "    <tr style=\"text-align: right;\">\n",
       "      <th></th>\n",
       "      <th>msisdn</th>\n",
       "      <th>gender</th>\n",
       "      <th>year_of_birth</th>\n",
       "      <th>system_status</th>\n",
       "      <th>mobile_type</th>\n",
       "      <th>value_segment</th>\n",
       "      <th>imei_tac</th>\n",
       "      <th>brand_name</th>\n",
       "      <th>model_name</th>\n",
       "      <th>os_name</th>\n",
       "      <th>os_vendor</th>\n",
       "      <th>week_number</th>\n",
       "      <th>revenue_usd</th>\n",
       "    </tr>\n",
       "  </thead>\n",
       "  <tbody>\n",
       "    <tr>\n",
       "      <th>0</th>\n",
       "      <td>4f5216988c44ec0a96a82a04f28b49fa</td>\n",
       "      <td>0</td>\n",
       "      <td>1988.0</td>\n",
       "      <td>ACTIVE</td>\n",
       "      <td>Prepaid</td>\n",
       "      <td>Tier_3</td>\n",
       "      <td>3b91b28c977886f58210f219e4a79b5a</td>\n",
       "      <td>SYMPHONY</td>\n",
       "      <td>I10 PLUS</td>\n",
       "      <td>Android</td>\n",
       "      <td>Google</td>\n",
       "      <td>34</td>\n",
       "      <td>8.388883</td>\n",
       "    </tr>\n",
       "    <tr>\n",
       "      <th>1</th>\n",
       "      <td>4f5216988c44ec0a96a82a04f28b49fa</td>\n",
       "      <td>0</td>\n",
       "      <td>1988.0</td>\n",
       "      <td>ACTIVE</td>\n",
       "      <td>Prepaid</td>\n",
       "      <td>Tier_3</td>\n",
       "      <td>3b91b28c977886f58210f219e4a79b5a</td>\n",
       "      <td>SYMPHONY</td>\n",
       "      <td>I10 PLUS</td>\n",
       "      <td>Android</td>\n",
       "      <td>Google</td>\n",
       "      <td>24</td>\n",
       "      <td>4.570665</td>\n",
       "    </tr>\n",
       "    <tr>\n",
       "      <th>2</th>\n",
       "      <td>4f5216988c44ec0a96a82a04f28b49fa</td>\n",
       "      <td>0</td>\n",
       "      <td>1988.0</td>\n",
       "      <td>ACTIVE</td>\n",
       "      <td>Prepaid</td>\n",
       "      <td>Tier_3</td>\n",
       "      <td>3b91b28c977886f58210f219e4a79b5a</td>\n",
       "      <td>SYMPHONY</td>\n",
       "      <td>I10 PLUS</td>\n",
       "      <td>Android</td>\n",
       "      <td>Google</td>\n",
       "      <td>30</td>\n",
       "      <td>19.584760</td>\n",
       "    </tr>\n",
       "    <tr>\n",
       "      <th>3</th>\n",
       "      <td>4f5216988c44ec0a96a82a04f28b49fa</td>\n",
       "      <td>0</td>\n",
       "      <td>1988.0</td>\n",
       "      <td>ACTIVE</td>\n",
       "      <td>Prepaid</td>\n",
       "      <td>Tier_3</td>\n",
       "      <td>3b91b28c977886f58210f219e4a79b5a</td>\n",
       "      <td>SYMPHONY</td>\n",
       "      <td>I10 PLUS</td>\n",
       "      <td>Android</td>\n",
       "      <td>Google</td>\n",
       "      <td>31</td>\n",
       "      <td>9.272223</td>\n",
       "    </tr>\n",
       "    <tr>\n",
       "      <th>4</th>\n",
       "      <td>4f5216988c44ec0a96a82a04f28b49fa</td>\n",
       "      <td>0</td>\n",
       "      <td>1988.0</td>\n",
       "      <td>ACTIVE</td>\n",
       "      <td>Prepaid</td>\n",
       "      <td>Tier_3</td>\n",
       "      <td>3b91b28c977886f58210f219e4a79b5a</td>\n",
       "      <td>SYMPHONY</td>\n",
       "      <td>I10 PLUS</td>\n",
       "      <td>Android</td>\n",
       "      <td>Google</td>\n",
       "      <td>33</td>\n",
       "      <td>13.292059</td>\n",
       "    </tr>\n",
       "  </tbody>\n",
       "</table>\n",
       "</div>"
      ],
      "text/plain": [
       "                             msisdn  gender  year_of_birth system_status  \\\n",
       "0  4f5216988c44ec0a96a82a04f28b49fa       0         1988.0        ACTIVE   \n",
       "1  4f5216988c44ec0a96a82a04f28b49fa       0         1988.0        ACTIVE   \n",
       "2  4f5216988c44ec0a96a82a04f28b49fa       0         1988.0        ACTIVE   \n",
       "3  4f5216988c44ec0a96a82a04f28b49fa       0         1988.0        ACTIVE   \n",
       "4  4f5216988c44ec0a96a82a04f28b49fa       0         1988.0        ACTIVE   \n",
       "\n",
       "  mobile_type value_segment                          imei_tac brand_name  \\\n",
       "0     Prepaid        Tier_3  3b91b28c977886f58210f219e4a79b5a   SYMPHONY   \n",
       "1     Prepaid        Tier_3  3b91b28c977886f58210f219e4a79b5a   SYMPHONY   \n",
       "2     Prepaid        Tier_3  3b91b28c977886f58210f219e4a79b5a   SYMPHONY   \n",
       "3     Prepaid        Tier_3  3b91b28c977886f58210f219e4a79b5a   SYMPHONY   \n",
       "4     Prepaid        Tier_3  3b91b28c977886f58210f219e4a79b5a   SYMPHONY   \n",
       "\n",
       "  model_name  os_name os_vendor  week_number  revenue_usd  \n",
       "0   I10 PLUS  Android    Google           34     8.388883  \n",
       "1   I10 PLUS  Android    Google           24     4.570665  \n",
       "2   I10 PLUS  Android    Google           30    19.584760  \n",
       "3   I10 PLUS  Android    Google           31     9.272223  \n",
       "4   I10 PLUS  Android    Google           33    13.292059  "
      ]
     },
     "execution_count": 12,
     "metadata": {},
     "output_type": "execute_result"
    }
   ],
   "source": [
    "## We will create a function that will convert all 'Male' values to 0 and 'Female' values to 1\n",
    "\n",
    "def gender_convert(data):\n",
    "    if data == 'Male':\n",
    "        return 0\n",
    "    elif data == 'MALE':\n",
    "        return 0\n",
    "    elif data == 'M':\n",
    "        return 0\n",
    "    else:\n",
    "        return 1\n",
    "    \n",
    "## Applying the function to convert gender column\n",
    "\n",
    "merged_data['gender'] = merged_data['gender'].apply(gender_convert)\n",
    "\n",
    "merged_data.head()"
   ]
  },
  {
   "cell_type": "markdown",
   "id": "61743779",
   "metadata": {},
   "source": [
    "### system_status"
   ]
  },
  {
   "cell_type": "code",
   "execution_count": 14,
   "id": "27334f3f",
   "metadata": {},
   "outputs": [
    {
     "data": {
      "text/html": [
       "<div>\n",
       "<style scoped>\n",
       "    .dataframe tbody tr th:only-of-type {\n",
       "        vertical-align: middle;\n",
       "    }\n",
       "\n",
       "    .dataframe tbody tr th {\n",
       "        vertical-align: top;\n",
       "    }\n",
       "\n",
       "    .dataframe thead th {\n",
       "        text-align: right;\n",
       "    }\n",
       "</style>\n",
       "<table border=\"1\" class=\"dataframe\">\n",
       "  <thead>\n",
       "    <tr style=\"text-align: right;\">\n",
       "      <th></th>\n",
       "      <th>msisdn</th>\n",
       "      <th>gender</th>\n",
       "      <th>year_of_birth</th>\n",
       "      <th>system_status</th>\n",
       "      <th>mobile_type</th>\n",
       "      <th>value_segment</th>\n",
       "      <th>imei_tac</th>\n",
       "      <th>brand_name</th>\n",
       "      <th>model_name</th>\n",
       "      <th>os_name</th>\n",
       "      <th>os_vendor</th>\n",
       "      <th>week_number</th>\n",
       "      <th>revenue_usd</th>\n",
       "    </tr>\n",
       "  </thead>\n",
       "  <tbody>\n",
       "    <tr>\n",
       "      <th>0</th>\n",
       "      <td>4f5216988c44ec0a96a82a04f28b49fa</td>\n",
       "      <td>0</td>\n",
       "      <td>1988.0</td>\n",
       "      <td>1</td>\n",
       "      <td>Prepaid</td>\n",
       "      <td>Tier_3</td>\n",
       "      <td>3b91b28c977886f58210f219e4a79b5a</td>\n",
       "      <td>SYMPHONY</td>\n",
       "      <td>I10 PLUS</td>\n",
       "      <td>Android</td>\n",
       "      <td>Google</td>\n",
       "      <td>34</td>\n",
       "      <td>8.388883</td>\n",
       "    </tr>\n",
       "    <tr>\n",
       "      <th>1</th>\n",
       "      <td>4f5216988c44ec0a96a82a04f28b49fa</td>\n",
       "      <td>0</td>\n",
       "      <td>1988.0</td>\n",
       "      <td>1</td>\n",
       "      <td>Prepaid</td>\n",
       "      <td>Tier_3</td>\n",
       "      <td>3b91b28c977886f58210f219e4a79b5a</td>\n",
       "      <td>SYMPHONY</td>\n",
       "      <td>I10 PLUS</td>\n",
       "      <td>Android</td>\n",
       "      <td>Google</td>\n",
       "      <td>24</td>\n",
       "      <td>4.570665</td>\n",
       "    </tr>\n",
       "    <tr>\n",
       "      <th>2</th>\n",
       "      <td>4f5216988c44ec0a96a82a04f28b49fa</td>\n",
       "      <td>0</td>\n",
       "      <td>1988.0</td>\n",
       "      <td>1</td>\n",
       "      <td>Prepaid</td>\n",
       "      <td>Tier_3</td>\n",
       "      <td>3b91b28c977886f58210f219e4a79b5a</td>\n",
       "      <td>SYMPHONY</td>\n",
       "      <td>I10 PLUS</td>\n",
       "      <td>Android</td>\n",
       "      <td>Google</td>\n",
       "      <td>30</td>\n",
       "      <td>19.584760</td>\n",
       "    </tr>\n",
       "    <tr>\n",
       "      <th>3</th>\n",
       "      <td>4f5216988c44ec0a96a82a04f28b49fa</td>\n",
       "      <td>0</td>\n",
       "      <td>1988.0</td>\n",
       "      <td>1</td>\n",
       "      <td>Prepaid</td>\n",
       "      <td>Tier_3</td>\n",
       "      <td>3b91b28c977886f58210f219e4a79b5a</td>\n",
       "      <td>SYMPHONY</td>\n",
       "      <td>I10 PLUS</td>\n",
       "      <td>Android</td>\n",
       "      <td>Google</td>\n",
       "      <td>31</td>\n",
       "      <td>9.272223</td>\n",
       "    </tr>\n",
       "    <tr>\n",
       "      <th>4</th>\n",
       "      <td>4f5216988c44ec0a96a82a04f28b49fa</td>\n",
       "      <td>0</td>\n",
       "      <td>1988.0</td>\n",
       "      <td>1</td>\n",
       "      <td>Prepaid</td>\n",
       "      <td>Tier_3</td>\n",
       "      <td>3b91b28c977886f58210f219e4a79b5a</td>\n",
       "      <td>SYMPHONY</td>\n",
       "      <td>I10 PLUS</td>\n",
       "      <td>Android</td>\n",
       "      <td>Google</td>\n",
       "      <td>33</td>\n",
       "      <td>13.292059</td>\n",
       "    </tr>\n",
       "  </tbody>\n",
       "</table>\n",
       "</div>"
      ],
      "text/plain": [
       "                             msisdn  gender  year_of_birth  system_status  \\\n",
       "0  4f5216988c44ec0a96a82a04f28b49fa       0         1988.0              1   \n",
       "1  4f5216988c44ec0a96a82a04f28b49fa       0         1988.0              1   \n",
       "2  4f5216988c44ec0a96a82a04f28b49fa       0         1988.0              1   \n",
       "3  4f5216988c44ec0a96a82a04f28b49fa       0         1988.0              1   \n",
       "4  4f5216988c44ec0a96a82a04f28b49fa       0         1988.0              1   \n",
       "\n",
       "  mobile_type value_segment                          imei_tac brand_name  \\\n",
       "0     Prepaid        Tier_3  3b91b28c977886f58210f219e4a79b5a   SYMPHONY   \n",
       "1     Prepaid        Tier_3  3b91b28c977886f58210f219e4a79b5a   SYMPHONY   \n",
       "2     Prepaid        Tier_3  3b91b28c977886f58210f219e4a79b5a   SYMPHONY   \n",
       "3     Prepaid        Tier_3  3b91b28c977886f58210f219e4a79b5a   SYMPHONY   \n",
       "4     Prepaid        Tier_3  3b91b28c977886f58210f219e4a79b5a   SYMPHONY   \n",
       "\n",
       "  model_name  os_name os_vendor  week_number  revenue_usd  \n",
       "0   I10 PLUS  Android    Google           34     8.388883  \n",
       "1   I10 PLUS  Android    Google           24     4.570665  \n",
       "2   I10 PLUS  Android    Google           30    19.584760  \n",
       "3   I10 PLUS  Android    Google           31     9.272223  \n",
       "4   I10 PLUS  Android    Google           33    13.292059  "
      ]
     },
     "execution_count": 14,
     "metadata": {},
     "output_type": "execute_result"
    }
   ],
   "source": [
    "def system_status_func(data):\n",
    "    if data =='ACTIVE':\n",
    "        return 1\n",
    "    else:\n",
    "        return 0\n",
    "    \n",
    "merged_data['system_status'] = merged_data['system_status'].apply(system_status_func)\n",
    "\n",
    "merged_data.head()"
   ]
  },
  {
   "cell_type": "markdown",
   "id": "86977d79",
   "metadata": {},
   "source": [
    "### mobile_type"
   ]
  },
  {
   "cell_type": "code",
   "execution_count": 16,
   "id": "5b00f900",
   "metadata": {},
   "outputs": [
    {
     "data": {
      "text/html": [
       "<div>\n",
       "<style scoped>\n",
       "    .dataframe tbody tr th:only-of-type {\n",
       "        vertical-align: middle;\n",
       "    }\n",
       "\n",
       "    .dataframe tbody tr th {\n",
       "        vertical-align: top;\n",
       "    }\n",
       "\n",
       "    .dataframe thead th {\n",
       "        text-align: right;\n",
       "    }\n",
       "</style>\n",
       "<table border=\"1\" class=\"dataframe\">\n",
       "  <thead>\n",
       "    <tr style=\"text-align: right;\">\n",
       "      <th></th>\n",
       "      <th>msisdn</th>\n",
       "      <th>gender</th>\n",
       "      <th>year_of_birth</th>\n",
       "      <th>system_status</th>\n",
       "      <th>mobile_type</th>\n",
       "      <th>value_segment</th>\n",
       "      <th>imei_tac</th>\n",
       "      <th>brand_name</th>\n",
       "      <th>model_name</th>\n",
       "      <th>os_name</th>\n",
       "      <th>os_vendor</th>\n",
       "      <th>week_number</th>\n",
       "      <th>revenue_usd</th>\n",
       "    </tr>\n",
       "  </thead>\n",
       "  <tbody>\n",
       "    <tr>\n",
       "      <th>0</th>\n",
       "      <td>4f5216988c44ec0a96a82a04f28b49fa</td>\n",
       "      <td>0</td>\n",
       "      <td>1988.0</td>\n",
       "      <td>1</td>\n",
       "      <td>1</td>\n",
       "      <td>Tier_3</td>\n",
       "      <td>3b91b28c977886f58210f219e4a79b5a</td>\n",
       "      <td>SYMPHONY</td>\n",
       "      <td>I10 PLUS</td>\n",
       "      <td>Android</td>\n",
       "      <td>Google</td>\n",
       "      <td>34</td>\n",
       "      <td>8.388883</td>\n",
       "    </tr>\n",
       "    <tr>\n",
       "      <th>1</th>\n",
       "      <td>4f5216988c44ec0a96a82a04f28b49fa</td>\n",
       "      <td>0</td>\n",
       "      <td>1988.0</td>\n",
       "      <td>1</td>\n",
       "      <td>1</td>\n",
       "      <td>Tier_3</td>\n",
       "      <td>3b91b28c977886f58210f219e4a79b5a</td>\n",
       "      <td>SYMPHONY</td>\n",
       "      <td>I10 PLUS</td>\n",
       "      <td>Android</td>\n",
       "      <td>Google</td>\n",
       "      <td>24</td>\n",
       "      <td>4.570665</td>\n",
       "    </tr>\n",
       "    <tr>\n",
       "      <th>2</th>\n",
       "      <td>4f5216988c44ec0a96a82a04f28b49fa</td>\n",
       "      <td>0</td>\n",
       "      <td>1988.0</td>\n",
       "      <td>1</td>\n",
       "      <td>1</td>\n",
       "      <td>Tier_3</td>\n",
       "      <td>3b91b28c977886f58210f219e4a79b5a</td>\n",
       "      <td>SYMPHONY</td>\n",
       "      <td>I10 PLUS</td>\n",
       "      <td>Android</td>\n",
       "      <td>Google</td>\n",
       "      <td>30</td>\n",
       "      <td>19.584760</td>\n",
       "    </tr>\n",
       "    <tr>\n",
       "      <th>3</th>\n",
       "      <td>4f5216988c44ec0a96a82a04f28b49fa</td>\n",
       "      <td>0</td>\n",
       "      <td>1988.0</td>\n",
       "      <td>1</td>\n",
       "      <td>1</td>\n",
       "      <td>Tier_3</td>\n",
       "      <td>3b91b28c977886f58210f219e4a79b5a</td>\n",
       "      <td>SYMPHONY</td>\n",
       "      <td>I10 PLUS</td>\n",
       "      <td>Android</td>\n",
       "      <td>Google</td>\n",
       "      <td>31</td>\n",
       "      <td>9.272223</td>\n",
       "    </tr>\n",
       "    <tr>\n",
       "      <th>4</th>\n",
       "      <td>4f5216988c44ec0a96a82a04f28b49fa</td>\n",
       "      <td>0</td>\n",
       "      <td>1988.0</td>\n",
       "      <td>1</td>\n",
       "      <td>1</td>\n",
       "      <td>Tier_3</td>\n",
       "      <td>3b91b28c977886f58210f219e4a79b5a</td>\n",
       "      <td>SYMPHONY</td>\n",
       "      <td>I10 PLUS</td>\n",
       "      <td>Android</td>\n",
       "      <td>Google</td>\n",
       "      <td>33</td>\n",
       "      <td>13.292059</td>\n",
       "    </tr>\n",
       "  </tbody>\n",
       "</table>\n",
       "</div>"
      ],
      "text/plain": [
       "                             msisdn  gender  year_of_birth  system_status  \\\n",
       "0  4f5216988c44ec0a96a82a04f28b49fa       0         1988.0              1   \n",
       "1  4f5216988c44ec0a96a82a04f28b49fa       0         1988.0              1   \n",
       "2  4f5216988c44ec0a96a82a04f28b49fa       0         1988.0              1   \n",
       "3  4f5216988c44ec0a96a82a04f28b49fa       0         1988.0              1   \n",
       "4  4f5216988c44ec0a96a82a04f28b49fa       0         1988.0              1   \n",
       "\n",
       "   mobile_type value_segment                          imei_tac brand_name  \\\n",
       "0            1        Tier_3  3b91b28c977886f58210f219e4a79b5a   SYMPHONY   \n",
       "1            1        Tier_3  3b91b28c977886f58210f219e4a79b5a   SYMPHONY   \n",
       "2            1        Tier_3  3b91b28c977886f58210f219e4a79b5a   SYMPHONY   \n",
       "3            1        Tier_3  3b91b28c977886f58210f219e4a79b5a   SYMPHONY   \n",
       "4            1        Tier_3  3b91b28c977886f58210f219e4a79b5a   SYMPHONY   \n",
       "\n",
       "  model_name  os_name os_vendor  week_number  revenue_usd  \n",
       "0   I10 PLUS  Android    Google           34     8.388883  \n",
       "1   I10 PLUS  Android    Google           24     4.570665  \n",
       "2   I10 PLUS  Android    Google           30    19.584760  \n",
       "3   I10 PLUS  Android    Google           31     9.272223  \n",
       "4   I10 PLUS  Android    Google           33    13.292059  "
      ]
     },
     "execution_count": 16,
     "metadata": {},
     "output_type": "execute_result"
    }
   ],
   "source": [
    "def mobile_type_func(data):\n",
    "    if data =='Prepaid':\n",
    "        return 1\n",
    "    else:\n",
    "        return 0\n",
    "    \n",
    "merged_data['mobile_type'] = merged_data['mobile_type'].apply(mobile_type_func)\n",
    "\n",
    "merged_data.head()"
   ]
  },
  {
   "cell_type": "markdown",
   "id": "dd6db256",
   "metadata": {},
   "source": [
    "### Converting dtype of year_of_birth column from float to int\n"
   ]
  },
  {
   "cell_type": "code",
   "execution_count": 17,
   "id": "81f1c436",
   "metadata": {},
   "outputs": [
    {
     "data": {
      "text/html": [
       "<div>\n",
       "<style scoped>\n",
       "    .dataframe tbody tr th:only-of-type {\n",
       "        vertical-align: middle;\n",
       "    }\n",
       "\n",
       "    .dataframe tbody tr th {\n",
       "        vertical-align: top;\n",
       "    }\n",
       "\n",
       "    .dataframe thead th {\n",
       "        text-align: right;\n",
       "    }\n",
       "</style>\n",
       "<table border=\"1\" class=\"dataframe\">\n",
       "  <thead>\n",
       "    <tr style=\"text-align: right;\">\n",
       "      <th></th>\n",
       "      <th>msisdn</th>\n",
       "      <th>gender</th>\n",
       "      <th>year_of_birth</th>\n",
       "      <th>system_status</th>\n",
       "      <th>mobile_type</th>\n",
       "      <th>value_segment</th>\n",
       "      <th>imei_tac</th>\n",
       "      <th>brand_name</th>\n",
       "      <th>model_name</th>\n",
       "      <th>os_name</th>\n",
       "      <th>os_vendor</th>\n",
       "      <th>week_number</th>\n",
       "      <th>revenue_usd</th>\n",
       "    </tr>\n",
       "  </thead>\n",
       "  <tbody>\n",
       "    <tr>\n",
       "      <th>0</th>\n",
       "      <td>4f5216988c44ec0a96a82a04f28b49fa</td>\n",
       "      <td>0</td>\n",
       "      <td>1988</td>\n",
       "      <td>1</td>\n",
       "      <td>1</td>\n",
       "      <td>Tier_3</td>\n",
       "      <td>3b91b28c977886f58210f219e4a79b5a</td>\n",
       "      <td>SYMPHONY</td>\n",
       "      <td>I10 PLUS</td>\n",
       "      <td>Android</td>\n",
       "      <td>Google</td>\n",
       "      <td>34</td>\n",
       "      <td>8.388883</td>\n",
       "    </tr>\n",
       "    <tr>\n",
       "      <th>1</th>\n",
       "      <td>4f5216988c44ec0a96a82a04f28b49fa</td>\n",
       "      <td>0</td>\n",
       "      <td>1988</td>\n",
       "      <td>1</td>\n",
       "      <td>1</td>\n",
       "      <td>Tier_3</td>\n",
       "      <td>3b91b28c977886f58210f219e4a79b5a</td>\n",
       "      <td>SYMPHONY</td>\n",
       "      <td>I10 PLUS</td>\n",
       "      <td>Android</td>\n",
       "      <td>Google</td>\n",
       "      <td>24</td>\n",
       "      <td>4.570665</td>\n",
       "    </tr>\n",
       "    <tr>\n",
       "      <th>2</th>\n",
       "      <td>4f5216988c44ec0a96a82a04f28b49fa</td>\n",
       "      <td>0</td>\n",
       "      <td>1988</td>\n",
       "      <td>1</td>\n",
       "      <td>1</td>\n",
       "      <td>Tier_3</td>\n",
       "      <td>3b91b28c977886f58210f219e4a79b5a</td>\n",
       "      <td>SYMPHONY</td>\n",
       "      <td>I10 PLUS</td>\n",
       "      <td>Android</td>\n",
       "      <td>Google</td>\n",
       "      <td>30</td>\n",
       "      <td>19.584760</td>\n",
       "    </tr>\n",
       "    <tr>\n",
       "      <th>3</th>\n",
       "      <td>4f5216988c44ec0a96a82a04f28b49fa</td>\n",
       "      <td>0</td>\n",
       "      <td>1988</td>\n",
       "      <td>1</td>\n",
       "      <td>1</td>\n",
       "      <td>Tier_3</td>\n",
       "      <td>3b91b28c977886f58210f219e4a79b5a</td>\n",
       "      <td>SYMPHONY</td>\n",
       "      <td>I10 PLUS</td>\n",
       "      <td>Android</td>\n",
       "      <td>Google</td>\n",
       "      <td>31</td>\n",
       "      <td>9.272223</td>\n",
       "    </tr>\n",
       "    <tr>\n",
       "      <th>4</th>\n",
       "      <td>4f5216988c44ec0a96a82a04f28b49fa</td>\n",
       "      <td>0</td>\n",
       "      <td>1988</td>\n",
       "      <td>1</td>\n",
       "      <td>1</td>\n",
       "      <td>Tier_3</td>\n",
       "      <td>3b91b28c977886f58210f219e4a79b5a</td>\n",
       "      <td>SYMPHONY</td>\n",
       "      <td>I10 PLUS</td>\n",
       "      <td>Android</td>\n",
       "      <td>Google</td>\n",
       "      <td>33</td>\n",
       "      <td>13.292059</td>\n",
       "    </tr>\n",
       "  </tbody>\n",
       "</table>\n",
       "</div>"
      ],
      "text/plain": [
       "                             msisdn  gender  year_of_birth  system_status  \\\n",
       "0  4f5216988c44ec0a96a82a04f28b49fa       0           1988              1   \n",
       "1  4f5216988c44ec0a96a82a04f28b49fa       0           1988              1   \n",
       "2  4f5216988c44ec0a96a82a04f28b49fa       0           1988              1   \n",
       "3  4f5216988c44ec0a96a82a04f28b49fa       0           1988              1   \n",
       "4  4f5216988c44ec0a96a82a04f28b49fa       0           1988              1   \n",
       "\n",
       "   mobile_type value_segment                          imei_tac brand_name  \\\n",
       "0            1        Tier_3  3b91b28c977886f58210f219e4a79b5a   SYMPHONY   \n",
       "1            1        Tier_3  3b91b28c977886f58210f219e4a79b5a   SYMPHONY   \n",
       "2            1        Tier_3  3b91b28c977886f58210f219e4a79b5a   SYMPHONY   \n",
       "3            1        Tier_3  3b91b28c977886f58210f219e4a79b5a   SYMPHONY   \n",
       "4            1        Tier_3  3b91b28c977886f58210f219e4a79b5a   SYMPHONY   \n",
       "\n",
       "  model_name  os_name os_vendor  week_number  revenue_usd  \n",
       "0   I10 PLUS  Android    Google           34     8.388883  \n",
       "1   I10 PLUS  Android    Google           24     4.570665  \n",
       "2   I10 PLUS  Android    Google           30    19.584760  \n",
       "3   I10 PLUS  Android    Google           31     9.272223  \n",
       "4   I10 PLUS  Android    Google           33    13.292059  "
      ]
     },
     "execution_count": 17,
     "metadata": {},
     "output_type": "execute_result"
    }
   ],
   "source": [
    "merged_data['year_of_birth'] = merged_data['year_of_birth'].astype(int)\n",
    "\n",
    "merged_data.head()"
   ]
  },
  {
   "cell_type": "code",
   "execution_count": 18,
   "id": "fbabcefc",
   "metadata": {},
   "outputs": [
    {
     "data": {
      "text/html": [
       "<div>\n",
       "<style scoped>\n",
       "    .dataframe tbody tr th:only-of-type {\n",
       "        vertical-align: middle;\n",
       "    }\n",
       "\n",
       "    .dataframe tbody tr th {\n",
       "        vertical-align: top;\n",
       "    }\n",
       "\n",
       "    .dataframe thead th {\n",
       "        text-align: right;\n",
       "    }\n",
       "</style>\n",
       "<table border=\"1\" class=\"dataframe\">\n",
       "  <thead>\n",
       "    <tr style=\"text-align: right;\">\n",
       "      <th></th>\n",
       "      <th>msisdn</th>\n",
       "      <th>gender</th>\n",
       "      <th>year_of_birth</th>\n",
       "      <th>system_status</th>\n",
       "      <th>mobile_type</th>\n",
       "      <th>value_segment</th>\n",
       "      <th>imei_tac</th>\n",
       "      <th>brand_name</th>\n",
       "      <th>model_name</th>\n",
       "      <th>os_name</th>\n",
       "      <th>os_vendor</th>\n",
       "      <th>week_number</th>\n",
       "      <th>revenue_usd</th>\n",
       "      <th>decades</th>\n",
       "    </tr>\n",
       "  </thead>\n",
       "  <tbody>\n",
       "    <tr>\n",
       "      <th>0</th>\n",
       "      <td>4f5216988c44ec0a96a82a04f28b49fa</td>\n",
       "      <td>0</td>\n",
       "      <td>1988</td>\n",
       "      <td>1</td>\n",
       "      <td>1</td>\n",
       "      <td>Tier_3</td>\n",
       "      <td>3b91b28c977886f58210f219e4a79b5a</td>\n",
       "      <td>SYMPHONY</td>\n",
       "      <td>I10 PLUS</td>\n",
       "      <td>Android</td>\n",
       "      <td>Google</td>\n",
       "      <td>34</td>\n",
       "      <td>8.388883</td>\n",
       "      <td>1980</td>\n",
       "    </tr>\n",
       "    <tr>\n",
       "      <th>1</th>\n",
       "      <td>4f5216988c44ec0a96a82a04f28b49fa</td>\n",
       "      <td>0</td>\n",
       "      <td>1988</td>\n",
       "      <td>1</td>\n",
       "      <td>1</td>\n",
       "      <td>Tier_3</td>\n",
       "      <td>3b91b28c977886f58210f219e4a79b5a</td>\n",
       "      <td>SYMPHONY</td>\n",
       "      <td>I10 PLUS</td>\n",
       "      <td>Android</td>\n",
       "      <td>Google</td>\n",
       "      <td>24</td>\n",
       "      <td>4.570665</td>\n",
       "      <td>1980</td>\n",
       "    </tr>\n",
       "    <tr>\n",
       "      <th>2</th>\n",
       "      <td>4f5216988c44ec0a96a82a04f28b49fa</td>\n",
       "      <td>0</td>\n",
       "      <td>1988</td>\n",
       "      <td>1</td>\n",
       "      <td>1</td>\n",
       "      <td>Tier_3</td>\n",
       "      <td>3b91b28c977886f58210f219e4a79b5a</td>\n",
       "      <td>SYMPHONY</td>\n",
       "      <td>I10 PLUS</td>\n",
       "      <td>Android</td>\n",
       "      <td>Google</td>\n",
       "      <td>30</td>\n",
       "      <td>19.584760</td>\n",
       "      <td>1980</td>\n",
       "    </tr>\n",
       "    <tr>\n",
       "      <th>3</th>\n",
       "      <td>4f5216988c44ec0a96a82a04f28b49fa</td>\n",
       "      <td>0</td>\n",
       "      <td>1988</td>\n",
       "      <td>1</td>\n",
       "      <td>1</td>\n",
       "      <td>Tier_3</td>\n",
       "      <td>3b91b28c977886f58210f219e4a79b5a</td>\n",
       "      <td>SYMPHONY</td>\n",
       "      <td>I10 PLUS</td>\n",
       "      <td>Android</td>\n",
       "      <td>Google</td>\n",
       "      <td>31</td>\n",
       "      <td>9.272223</td>\n",
       "      <td>1980</td>\n",
       "    </tr>\n",
       "    <tr>\n",
       "      <th>4</th>\n",
       "      <td>4f5216988c44ec0a96a82a04f28b49fa</td>\n",
       "      <td>0</td>\n",
       "      <td>1988</td>\n",
       "      <td>1</td>\n",
       "      <td>1</td>\n",
       "      <td>Tier_3</td>\n",
       "      <td>3b91b28c977886f58210f219e4a79b5a</td>\n",
       "      <td>SYMPHONY</td>\n",
       "      <td>I10 PLUS</td>\n",
       "      <td>Android</td>\n",
       "      <td>Google</td>\n",
       "      <td>33</td>\n",
       "      <td>13.292059</td>\n",
       "      <td>1980</td>\n",
       "    </tr>\n",
       "  </tbody>\n",
       "</table>\n",
       "</div>"
      ],
      "text/plain": [
       "                             msisdn  gender  year_of_birth  system_status  \\\n",
       "0  4f5216988c44ec0a96a82a04f28b49fa       0           1988              1   \n",
       "1  4f5216988c44ec0a96a82a04f28b49fa       0           1988              1   \n",
       "2  4f5216988c44ec0a96a82a04f28b49fa       0           1988              1   \n",
       "3  4f5216988c44ec0a96a82a04f28b49fa       0           1988              1   \n",
       "4  4f5216988c44ec0a96a82a04f28b49fa       0           1988              1   \n",
       "\n",
       "   mobile_type value_segment                          imei_tac brand_name  \\\n",
       "0            1        Tier_3  3b91b28c977886f58210f219e4a79b5a   SYMPHONY   \n",
       "1            1        Tier_3  3b91b28c977886f58210f219e4a79b5a   SYMPHONY   \n",
       "2            1        Tier_3  3b91b28c977886f58210f219e4a79b5a   SYMPHONY   \n",
       "3            1        Tier_3  3b91b28c977886f58210f219e4a79b5a   SYMPHONY   \n",
       "4            1        Tier_3  3b91b28c977886f58210f219e4a79b5a   SYMPHONY   \n",
       "\n",
       "  model_name  os_name os_vendor  week_number  revenue_usd  decades  \n",
       "0   I10 PLUS  Android    Google           34     8.388883     1980  \n",
       "1   I10 PLUS  Android    Google           24     4.570665     1980  \n",
       "2   I10 PLUS  Android    Google           30    19.584760     1980  \n",
       "3   I10 PLUS  Android    Google           31     9.272223     1980  \n",
       "4   I10 PLUS  Android    Google           33    13.292059     1980  "
      ]
     },
     "execution_count": 18,
     "metadata": {},
     "output_type": "execute_result"
    }
   ],
   "source": [
    "## Creating a decade column from year_of_birth\n",
    "\n",
    "def decade(data):\n",
    "    divide_year = data/10\n",
    "    int_decade = int(divide_year)\n",
    "    multiply_year = int_decade*10\n",
    "    return multiply_year\n",
    "\n",
    "merged_data['decades'] = merged_data['year_of_birth'].apply(decade)\n",
    "\n",
    "merged_data.head()"
   ]
  },
  {
   "cell_type": "code",
   "execution_count": 19,
   "id": "bc7626af",
   "metadata": {},
   "outputs": [
    {
     "data": {
      "text/html": [
       "<div>\n",
       "<style scoped>\n",
       "    .dataframe tbody tr th:only-of-type {\n",
       "        vertical-align: middle;\n",
       "    }\n",
       "\n",
       "    .dataframe tbody tr th {\n",
       "        vertical-align: top;\n",
       "    }\n",
       "\n",
       "    .dataframe thead th {\n",
       "        text-align: right;\n",
       "    }\n",
       "</style>\n",
       "<table border=\"1\" class=\"dataframe\">\n",
       "  <thead>\n",
       "    <tr style=\"text-align: right;\">\n",
       "      <th></th>\n",
       "      <th>msisdn</th>\n",
       "      <th>gender</th>\n",
       "      <th>year_of_birth</th>\n",
       "      <th>decades</th>\n",
       "      <th>system_status</th>\n",
       "      <th>mobile_type</th>\n",
       "      <th>value_segment</th>\n",
       "      <th>imei_tac</th>\n",
       "      <th>brand_name</th>\n",
       "      <th>model_name</th>\n",
       "      <th>os_name</th>\n",
       "      <th>os_vendor</th>\n",
       "      <th>week_number</th>\n",
       "      <th>revenue_usd</th>\n",
       "    </tr>\n",
       "  </thead>\n",
       "  <tbody>\n",
       "    <tr>\n",
       "      <th>0</th>\n",
       "      <td>4f5216988c44ec0a96a82a04f28b49fa</td>\n",
       "      <td>0</td>\n",
       "      <td>1988</td>\n",
       "      <td>1980</td>\n",
       "      <td>1</td>\n",
       "      <td>1</td>\n",
       "      <td>Tier_3</td>\n",
       "      <td>3b91b28c977886f58210f219e4a79b5a</td>\n",
       "      <td>SYMPHONY</td>\n",
       "      <td>I10 PLUS</td>\n",
       "      <td>Android</td>\n",
       "      <td>Google</td>\n",
       "      <td>34</td>\n",
       "      <td>8.388883</td>\n",
       "    </tr>\n",
       "    <tr>\n",
       "      <th>1</th>\n",
       "      <td>4f5216988c44ec0a96a82a04f28b49fa</td>\n",
       "      <td>0</td>\n",
       "      <td>1988</td>\n",
       "      <td>1980</td>\n",
       "      <td>1</td>\n",
       "      <td>1</td>\n",
       "      <td>Tier_3</td>\n",
       "      <td>3b91b28c977886f58210f219e4a79b5a</td>\n",
       "      <td>SYMPHONY</td>\n",
       "      <td>I10 PLUS</td>\n",
       "      <td>Android</td>\n",
       "      <td>Google</td>\n",
       "      <td>24</td>\n",
       "      <td>4.570665</td>\n",
       "    </tr>\n",
       "    <tr>\n",
       "      <th>2</th>\n",
       "      <td>4f5216988c44ec0a96a82a04f28b49fa</td>\n",
       "      <td>0</td>\n",
       "      <td>1988</td>\n",
       "      <td>1980</td>\n",
       "      <td>1</td>\n",
       "      <td>1</td>\n",
       "      <td>Tier_3</td>\n",
       "      <td>3b91b28c977886f58210f219e4a79b5a</td>\n",
       "      <td>SYMPHONY</td>\n",
       "      <td>I10 PLUS</td>\n",
       "      <td>Android</td>\n",
       "      <td>Google</td>\n",
       "      <td>30</td>\n",
       "      <td>19.584760</td>\n",
       "    </tr>\n",
       "    <tr>\n",
       "      <th>3</th>\n",
       "      <td>4f5216988c44ec0a96a82a04f28b49fa</td>\n",
       "      <td>0</td>\n",
       "      <td>1988</td>\n",
       "      <td>1980</td>\n",
       "      <td>1</td>\n",
       "      <td>1</td>\n",
       "      <td>Tier_3</td>\n",
       "      <td>3b91b28c977886f58210f219e4a79b5a</td>\n",
       "      <td>SYMPHONY</td>\n",
       "      <td>I10 PLUS</td>\n",
       "      <td>Android</td>\n",
       "      <td>Google</td>\n",
       "      <td>31</td>\n",
       "      <td>9.272223</td>\n",
       "    </tr>\n",
       "    <tr>\n",
       "      <th>4</th>\n",
       "      <td>4f5216988c44ec0a96a82a04f28b49fa</td>\n",
       "      <td>0</td>\n",
       "      <td>1988</td>\n",
       "      <td>1980</td>\n",
       "      <td>1</td>\n",
       "      <td>1</td>\n",
       "      <td>Tier_3</td>\n",
       "      <td>3b91b28c977886f58210f219e4a79b5a</td>\n",
       "      <td>SYMPHONY</td>\n",
       "      <td>I10 PLUS</td>\n",
       "      <td>Android</td>\n",
       "      <td>Google</td>\n",
       "      <td>33</td>\n",
       "      <td>13.292059</td>\n",
       "    </tr>\n",
       "  </tbody>\n",
       "</table>\n",
       "</div>"
      ],
      "text/plain": [
       "                             msisdn  gender  year_of_birth  decades  \\\n",
       "0  4f5216988c44ec0a96a82a04f28b49fa       0           1988     1980   \n",
       "1  4f5216988c44ec0a96a82a04f28b49fa       0           1988     1980   \n",
       "2  4f5216988c44ec0a96a82a04f28b49fa       0           1988     1980   \n",
       "3  4f5216988c44ec0a96a82a04f28b49fa       0           1988     1980   \n",
       "4  4f5216988c44ec0a96a82a04f28b49fa       0           1988     1980   \n",
       "\n",
       "   system_status  mobile_type value_segment                          imei_tac  \\\n",
       "0              1            1        Tier_3  3b91b28c977886f58210f219e4a79b5a   \n",
       "1              1            1        Tier_3  3b91b28c977886f58210f219e4a79b5a   \n",
       "2              1            1        Tier_3  3b91b28c977886f58210f219e4a79b5a   \n",
       "3              1            1        Tier_3  3b91b28c977886f58210f219e4a79b5a   \n",
       "4              1            1        Tier_3  3b91b28c977886f58210f219e4a79b5a   \n",
       "\n",
       "  brand_name model_name  os_name os_vendor  week_number  revenue_usd  \n",
       "0   SYMPHONY   I10 PLUS  Android    Google           34     8.388883  \n",
       "1   SYMPHONY   I10 PLUS  Android    Google           24     4.570665  \n",
       "2   SYMPHONY   I10 PLUS  Android    Google           30    19.584760  \n",
       "3   SYMPHONY   I10 PLUS  Android    Google           31     9.272223  \n",
       "4   SYMPHONY   I10 PLUS  Android    Google           33    13.292059  "
      ]
     },
     "execution_count": 19,
     "metadata": {},
     "output_type": "execute_result"
    }
   ],
   "source": [
    "## Moving the decades column and reordering a DatFrame\n",
    "\n",
    "merged_data = merged_data[['msisdn', 'gender', 'year_of_birth','decades',\n",
    "            'system_status', 'mobile_type',\n",
    "             'value_segment', 'imei_tac', 'brand_name', 'model_name', 'os_name',\n",
    "             'os_vendor', 'week_number', 'revenue_usd']]\n",
    "\n",
    "merged_data.head()"
   ]
  },
  {
   "cell_type": "code",
   "execution_count": null,
   "id": "db663dc0",
   "metadata": {},
   "outputs": [],
   "source": []
  },
  {
   "cell_type": "code",
   "execution_count": 20,
   "id": "3100f8c3",
   "metadata": {},
   "outputs": [
    {
     "data": {
      "text/html": [
       "<div>\n",
       "<style scoped>\n",
       "    .dataframe tbody tr th:only-of-type {\n",
       "        vertical-align: middle;\n",
       "    }\n",
       "\n",
       "    .dataframe tbody tr th {\n",
       "        vertical-align: top;\n",
       "    }\n",
       "\n",
       "    .dataframe thead th {\n",
       "        text-align: right;\n",
       "    }\n",
       "</style>\n",
       "<table border=\"1\" class=\"dataframe\">\n",
       "  <thead>\n",
       "    <tr style=\"text-align: right;\">\n",
       "      <th></th>\n",
       "      <th>msisdn</th>\n",
       "      <th>gender</th>\n",
       "      <th>year_of_birth</th>\n",
       "      <th>decades</th>\n",
       "      <th>age</th>\n",
       "      <th>system_status</th>\n",
       "      <th>mobile_type</th>\n",
       "      <th>value_segment</th>\n",
       "      <th>imei_tac</th>\n",
       "      <th>brand_name</th>\n",
       "      <th>model_name</th>\n",
       "      <th>os_name</th>\n",
       "      <th>os_vendor</th>\n",
       "      <th>week_number</th>\n",
       "      <th>revenue_usd</th>\n",
       "    </tr>\n",
       "  </thead>\n",
       "  <tbody>\n",
       "    <tr>\n",
       "      <th>0</th>\n",
       "      <td>4f5216988c44ec0a96a82a04f28b49fa</td>\n",
       "      <td>0</td>\n",
       "      <td>1988</td>\n",
       "      <td>1980</td>\n",
       "      <td>35</td>\n",
       "      <td>1</td>\n",
       "      <td>1</td>\n",
       "      <td>Tier_3</td>\n",
       "      <td>3b91b28c977886f58210f219e4a79b5a</td>\n",
       "      <td>SYMPHONY</td>\n",
       "      <td>I10 PLUS</td>\n",
       "      <td>Android</td>\n",
       "      <td>Google</td>\n",
       "      <td>34</td>\n",
       "      <td>8.388883</td>\n",
       "    </tr>\n",
       "    <tr>\n",
       "      <th>1</th>\n",
       "      <td>4f5216988c44ec0a96a82a04f28b49fa</td>\n",
       "      <td>0</td>\n",
       "      <td>1988</td>\n",
       "      <td>1980</td>\n",
       "      <td>35</td>\n",
       "      <td>1</td>\n",
       "      <td>1</td>\n",
       "      <td>Tier_3</td>\n",
       "      <td>3b91b28c977886f58210f219e4a79b5a</td>\n",
       "      <td>SYMPHONY</td>\n",
       "      <td>I10 PLUS</td>\n",
       "      <td>Android</td>\n",
       "      <td>Google</td>\n",
       "      <td>24</td>\n",
       "      <td>4.570665</td>\n",
       "    </tr>\n",
       "    <tr>\n",
       "      <th>2</th>\n",
       "      <td>4f5216988c44ec0a96a82a04f28b49fa</td>\n",
       "      <td>0</td>\n",
       "      <td>1988</td>\n",
       "      <td>1980</td>\n",
       "      <td>35</td>\n",
       "      <td>1</td>\n",
       "      <td>1</td>\n",
       "      <td>Tier_3</td>\n",
       "      <td>3b91b28c977886f58210f219e4a79b5a</td>\n",
       "      <td>SYMPHONY</td>\n",
       "      <td>I10 PLUS</td>\n",
       "      <td>Android</td>\n",
       "      <td>Google</td>\n",
       "      <td>30</td>\n",
       "      <td>19.584760</td>\n",
       "    </tr>\n",
       "    <tr>\n",
       "      <th>3</th>\n",
       "      <td>4f5216988c44ec0a96a82a04f28b49fa</td>\n",
       "      <td>0</td>\n",
       "      <td>1988</td>\n",
       "      <td>1980</td>\n",
       "      <td>35</td>\n",
       "      <td>1</td>\n",
       "      <td>1</td>\n",
       "      <td>Tier_3</td>\n",
       "      <td>3b91b28c977886f58210f219e4a79b5a</td>\n",
       "      <td>SYMPHONY</td>\n",
       "      <td>I10 PLUS</td>\n",
       "      <td>Android</td>\n",
       "      <td>Google</td>\n",
       "      <td>31</td>\n",
       "      <td>9.272223</td>\n",
       "    </tr>\n",
       "    <tr>\n",
       "      <th>4</th>\n",
       "      <td>4f5216988c44ec0a96a82a04f28b49fa</td>\n",
       "      <td>0</td>\n",
       "      <td>1988</td>\n",
       "      <td>1980</td>\n",
       "      <td>35</td>\n",
       "      <td>1</td>\n",
       "      <td>1</td>\n",
       "      <td>Tier_3</td>\n",
       "      <td>3b91b28c977886f58210f219e4a79b5a</td>\n",
       "      <td>SYMPHONY</td>\n",
       "      <td>I10 PLUS</td>\n",
       "      <td>Android</td>\n",
       "      <td>Google</td>\n",
       "      <td>33</td>\n",
       "      <td>13.292059</td>\n",
       "    </tr>\n",
       "  </tbody>\n",
       "</table>\n",
       "</div>"
      ],
      "text/plain": [
       "                             msisdn  gender  year_of_birth  decades  age  \\\n",
       "0  4f5216988c44ec0a96a82a04f28b49fa       0           1988     1980   35   \n",
       "1  4f5216988c44ec0a96a82a04f28b49fa       0           1988     1980   35   \n",
       "2  4f5216988c44ec0a96a82a04f28b49fa       0           1988     1980   35   \n",
       "3  4f5216988c44ec0a96a82a04f28b49fa       0           1988     1980   35   \n",
       "4  4f5216988c44ec0a96a82a04f28b49fa       0           1988     1980   35   \n",
       "\n",
       "   system_status  mobile_type value_segment                          imei_tac  \\\n",
       "0              1            1        Tier_3  3b91b28c977886f58210f219e4a79b5a   \n",
       "1              1            1        Tier_3  3b91b28c977886f58210f219e4a79b5a   \n",
       "2              1            1        Tier_3  3b91b28c977886f58210f219e4a79b5a   \n",
       "3              1            1        Tier_3  3b91b28c977886f58210f219e4a79b5a   \n",
       "4              1            1        Tier_3  3b91b28c977886f58210f219e4a79b5a   \n",
       "\n",
       "  brand_name model_name  os_name os_vendor  week_number  revenue_usd  \n",
       "0   SYMPHONY   I10 PLUS  Android    Google           34     8.388883  \n",
       "1   SYMPHONY   I10 PLUS  Android    Google           24     4.570665  \n",
       "2   SYMPHONY   I10 PLUS  Android    Google           30    19.584760  \n",
       "3   SYMPHONY   I10 PLUS  Android    Google           31     9.272223  \n",
       "4   SYMPHONY   I10 PLUS  Android    Google           33    13.292059  "
      ]
     },
     "execution_count": 20,
     "metadata": {},
     "output_type": "execute_result"
    }
   ],
   "source": [
    "## Creating a new column called 'age' from year_of_birth column\n",
    "#  we can figure out the ages of the customers by applying the following line\n",
    "\n",
    "merged_data['age'] = datetime.datetime.now().year - merged_data['year_of_birth']\n",
    "\n",
    "merged_data = merged_data[['msisdn', 'gender', 'year_of_birth','decades','age',\n",
    "            'system_status', 'mobile_type',\n",
    "             'value_segment', 'imei_tac', 'brand_name', 'model_name', 'os_name',\n",
    "             'os_vendor', 'week_number', 'revenue_usd']]\n",
    "\n",
    "merged_data.head()"
   ]
  },
  {
   "cell_type": "markdown",
   "id": "297f652d",
   "metadata": {},
   "source": [
    "### Because the brand_name and os_name has too many unique values, we will use target encoding to replace the columns with the mean values for their respective revenue"
   ]
  },
  {
   "cell_type": "code",
   "execution_count": 21,
   "id": "873dc07a",
   "metadata": {},
   "outputs": [],
   "source": [
    "## Brand_names\n",
    "\n",
    "target_encoding = merged_data.groupby('brand_name')['revenue_usd'].mean().reset_index()\n",
    "\n",
    "target_encoding.rename(columns={'revenue_usd':'brand_name_revenue_mean'}, inplace=True)\n",
    "\n",
    "merged_data = merged_data.merge(target_encoding, on = 'brand_name', how = 'left')"
   ]
  },
  {
   "cell_type": "code",
   "execution_count": 22,
   "id": "2337de66",
   "metadata": {},
   "outputs": [],
   "source": [
    "## os_name\n",
    "\n",
    "target_encoding =  merged_data.groupby('os_name')['revenue_usd'].mean().reset_index()\n",
    "\n",
    "target_encoding.rename(columns={'revenue_usd':'os_name_revenue_mean'}, inplace=True)\n",
    "\n",
    "merged_data = merged_data.merge(target_encoding, on = 'os_name', how = 'left')"
   ]
  },
  {
   "cell_type": "code",
   "execution_count": 23,
   "id": "a67de9c3",
   "metadata": {
    "scrolled": true
   },
   "outputs": [
    {
     "data": {
      "text/html": [
       "<div>\n",
       "<style scoped>\n",
       "    .dataframe tbody tr th:only-of-type {\n",
       "        vertical-align: middle;\n",
       "    }\n",
       "\n",
       "    .dataframe tbody tr th {\n",
       "        vertical-align: top;\n",
       "    }\n",
       "\n",
       "    .dataframe thead th {\n",
       "        text-align: right;\n",
       "    }\n",
       "</style>\n",
       "<table border=\"1\" class=\"dataframe\">\n",
       "  <thead>\n",
       "    <tr style=\"text-align: right;\">\n",
       "      <th></th>\n",
       "      <th>gender</th>\n",
       "      <th>year_of_birth</th>\n",
       "      <th>decades</th>\n",
       "      <th>age</th>\n",
       "      <th>system_status</th>\n",
       "      <th>mobile_type</th>\n",
       "      <th>week_number</th>\n",
       "      <th>revenue_usd</th>\n",
       "      <th>brand_name_revenue_mean</th>\n",
       "      <th>os_name_revenue_mean</th>\n",
       "    </tr>\n",
       "  </thead>\n",
       "  <tbody>\n",
       "    <tr>\n",
       "      <th>0</th>\n",
       "      <td>0</td>\n",
       "      <td>1988</td>\n",
       "      <td>1980</td>\n",
       "      <td>35</td>\n",
       "      <td>1</td>\n",
       "      <td>1</td>\n",
       "      <td>34</td>\n",
       "      <td>8.388883</td>\n",
       "      <td>11.450734</td>\n",
       "      <td>11.688972</td>\n",
       "    </tr>\n",
       "    <tr>\n",
       "      <th>1</th>\n",
       "      <td>0</td>\n",
       "      <td>1988</td>\n",
       "      <td>1980</td>\n",
       "      <td>35</td>\n",
       "      <td>1</td>\n",
       "      <td>1</td>\n",
       "      <td>24</td>\n",
       "      <td>4.570665</td>\n",
       "      <td>11.450734</td>\n",
       "      <td>11.688972</td>\n",
       "    </tr>\n",
       "    <tr>\n",
       "      <th>2</th>\n",
       "      <td>0</td>\n",
       "      <td>1988</td>\n",
       "      <td>1980</td>\n",
       "      <td>35</td>\n",
       "      <td>1</td>\n",
       "      <td>1</td>\n",
       "      <td>30</td>\n",
       "      <td>19.584760</td>\n",
       "      <td>11.450734</td>\n",
       "      <td>11.688972</td>\n",
       "    </tr>\n",
       "    <tr>\n",
       "      <th>3</th>\n",
       "      <td>0</td>\n",
       "      <td>1988</td>\n",
       "      <td>1980</td>\n",
       "      <td>35</td>\n",
       "      <td>1</td>\n",
       "      <td>1</td>\n",
       "      <td>31</td>\n",
       "      <td>9.272223</td>\n",
       "      <td>11.450734</td>\n",
       "      <td>11.688972</td>\n",
       "    </tr>\n",
       "    <tr>\n",
       "      <th>4</th>\n",
       "      <td>0</td>\n",
       "      <td>1988</td>\n",
       "      <td>1980</td>\n",
       "      <td>35</td>\n",
       "      <td>1</td>\n",
       "      <td>1</td>\n",
       "      <td>33</td>\n",
       "      <td>13.292059</td>\n",
       "      <td>11.450734</td>\n",
       "      <td>11.688972</td>\n",
       "    </tr>\n",
       "  </tbody>\n",
       "</table>\n",
       "</div>"
      ],
      "text/plain": [
       "   gender  year_of_birth  decades  age  system_status  mobile_type  \\\n",
       "0       0           1988     1980   35              1            1   \n",
       "1       0           1988     1980   35              1            1   \n",
       "2       0           1988     1980   35              1            1   \n",
       "3       0           1988     1980   35              1            1   \n",
       "4       0           1988     1980   35              1            1   \n",
       "\n",
       "   week_number  revenue_usd  brand_name_revenue_mean  os_name_revenue_mean  \n",
       "0           34     8.388883                11.450734             11.688972  \n",
       "1           24     4.570665                11.450734             11.688972  \n",
       "2           30    19.584760                11.450734             11.688972  \n",
       "3           31     9.272223                11.450734             11.688972  \n",
       "4           33    13.292059                11.450734             11.688972  "
      ]
     },
     "execution_count": 23,
     "metadata": {},
     "output_type": "execute_result"
    }
   ],
   "source": [
    "cleaned_data = merged_data.drop(['msisdn','value_segment','imei_tac', 'model_name', \n",
    "                  'brand_name', 'os_vendor', 'os_name'], axis= 1)\n",
    "\n",
    "cleaned_data.head()"
   ]
  },
  {
   "cell_type": "code",
   "execution_count": 24,
   "id": "efa5f8ba",
   "metadata": {},
   "outputs": [],
   "source": [
    "def revenue(data):\n",
    "    rev = int(data)\n",
    "    return rev\n",
    "\n",
    "cleaned_data['revenue_usd'] = cleaned_data['revenue_usd'].apply(revenue)"
   ]
  },
  {
   "cell_type": "markdown",
   "id": "bb1df0d5",
   "metadata": {},
   "source": [
    "## Data Analysis"
   ]
  },
  {
   "cell_type": "code",
   "execution_count": 25,
   "id": "6e715029",
   "metadata": {},
   "outputs": [
    {
     "name": "stdout",
     "output_type": "stream",
     "text": [
      "Number of customers with Active system status: 121596\n",
      "Number of customers with Suspended system status: 2554\n"
     ]
    }
   ],
   "source": [
    "## The ratio of Active users (1) to Suspended users (0)\n",
    "\n",
    "print(f'Number of customers with Active system status: {cleaned_data[cleaned_data[\"system_status\"] == 1][\"system_status\"].count()}')\n",
    "\n",
    "print(f'Number of customers with Suspended system status: {cleaned_data[cleaned_data[\"system_status\"] == 0][\"system_status\"].count()}')\n",
    "\n",
    "\n"
   ]
  },
  {
   "cell_type": "code",
   "execution_count": 26,
   "id": "5837474a",
   "metadata": {},
   "outputs": [
    {
     "name": "stdout",
     "output_type": "stream",
     "text": [
      "Number of Male customers: 107590\n",
      "Number of Female customers: 16560\n"
     ]
    }
   ],
   "source": [
    "## The number of Males (0) to Females (1)\n",
    "\n",
    "print(f'Number of Male customers: {cleaned_data[cleaned_data[\"gender\"] == 0][\"gender\"].count()}')\n",
    "\n",
    "print(f'Number of Female customers: {cleaned_data[cleaned_data[\"gender\"] == 1][\"gender\"].count()}')"
   ]
  },
  {
   "cell_type": "code",
   "execution_count": 27,
   "id": "0077b003",
   "metadata": {},
   "outputs": [
    {
     "name": "stdout",
     "output_type": "stream",
     "text": [
      "The proportion of all female customers is 0.867 and The proportion of all male customers is 0.133\n"
     ]
    }
   ],
   "source": [
    "## To calculate the proportion of female customers from the whole data\n",
    "\n",
    "all_female_customers = round((len(cleaned_data[cleaned_data[\"gender\"] == 0][\"gender\"])/len(cleaned_data)),3)\n",
    "\n",
    "all_male_customers = 1 - all_female_customers\n",
    "\n",
    "print(\"The proportion of all female customers is {} and The proportion of all male customers is {}\".format(all_female_customers,\n",
    "                                                                                                          all_male_customers))"
   ]
  },
  {
   "cell_type": "code",
   "execution_count": 28,
   "id": "acab207f",
   "metadata": {},
   "outputs": [],
   "source": [
    "## To see the ex-customers we can create a subset of the dataframe with only Suspended customers\n",
    "\n",
    "ex_customers = cleaned_data[cleaned_data['system_status'] == 0]\n",
    "\n",
    "## All active accounts\n",
    "active_acc = cleaned_data[cleaned_data['system_status'] == 1]"
   ]
  },
  {
   "cell_type": "code",
   "execution_count": 29,
   "id": "0549139d",
   "metadata": {},
   "outputs": [
    {
     "data": {
      "text/html": [
       "<div>\n",
       "<style scoped>\n",
       "    .dataframe tbody tr th:only-of-type {\n",
       "        vertical-align: middle;\n",
       "    }\n",
       "\n",
       "    .dataframe tbody tr th {\n",
       "        vertical-align: top;\n",
       "    }\n",
       "\n",
       "    .dataframe thead th {\n",
       "        text-align: right;\n",
       "    }\n",
       "</style>\n",
       "<table border=\"1\" class=\"dataframe\">\n",
       "  <thead>\n",
       "    <tr style=\"text-align: right;\">\n",
       "      <th></th>\n",
       "      <th>gender</th>\n",
       "      <th>year_of_birth</th>\n",
       "      <th>decades</th>\n",
       "      <th>age</th>\n",
       "      <th>system_status</th>\n",
       "      <th>mobile_type</th>\n",
       "      <th>week_number</th>\n",
       "      <th>revenue_usd</th>\n",
       "      <th>brand_name_revenue_mean</th>\n",
       "      <th>os_name_revenue_mean</th>\n",
       "    </tr>\n",
       "  </thead>\n",
       "  <tbody>\n",
       "    <tr>\n",
       "      <th>834</th>\n",
       "      <td>0</td>\n",
       "      <td>1993</td>\n",
       "      <td>1990</td>\n",
       "      <td>30</td>\n",
       "      <td>0</td>\n",
       "      <td>1</td>\n",
       "      <td>26</td>\n",
       "      <td>12</td>\n",
       "      <td>11.450734</td>\n",
       "      <td>11.385032</td>\n",
       "    </tr>\n",
       "    <tr>\n",
       "      <th>835</th>\n",
       "      <td>0</td>\n",
       "      <td>1993</td>\n",
       "      <td>1990</td>\n",
       "      <td>30</td>\n",
       "      <td>0</td>\n",
       "      <td>1</td>\n",
       "      <td>30</td>\n",
       "      <td>4</td>\n",
       "      <td>11.450734</td>\n",
       "      <td>11.385032</td>\n",
       "    </tr>\n",
       "    <tr>\n",
       "      <th>836</th>\n",
       "      <td>0</td>\n",
       "      <td>1993</td>\n",
       "      <td>1990</td>\n",
       "      <td>30</td>\n",
       "      <td>0</td>\n",
       "      <td>1</td>\n",
       "      <td>27</td>\n",
       "      <td>16</td>\n",
       "      <td>11.450734</td>\n",
       "      <td>11.385032</td>\n",
       "    </tr>\n",
       "    <tr>\n",
       "      <th>837</th>\n",
       "      <td>0</td>\n",
       "      <td>1993</td>\n",
       "      <td>1990</td>\n",
       "      <td>30</td>\n",
       "      <td>0</td>\n",
       "      <td>1</td>\n",
       "      <td>35</td>\n",
       "      <td>14</td>\n",
       "      <td>11.450734</td>\n",
       "      <td>11.385032</td>\n",
       "    </tr>\n",
       "    <tr>\n",
       "      <th>838</th>\n",
       "      <td>0</td>\n",
       "      <td>1993</td>\n",
       "      <td>1990</td>\n",
       "      <td>30</td>\n",
       "      <td>0</td>\n",
       "      <td>1</td>\n",
       "      <td>23</td>\n",
       "      <td>10</td>\n",
       "      <td>11.450734</td>\n",
       "      <td>11.385032</td>\n",
       "    </tr>\n",
       "    <tr>\n",
       "      <th>...</th>\n",
       "      <td>...</td>\n",
       "      <td>...</td>\n",
       "      <td>...</td>\n",
       "      <td>...</td>\n",
       "      <td>...</td>\n",
       "      <td>...</td>\n",
       "      <td>...</td>\n",
       "      <td>...</td>\n",
       "      <td>...</td>\n",
       "      <td>...</td>\n",
       "    </tr>\n",
       "    <tr>\n",
       "      <th>123092</th>\n",
       "      <td>0</td>\n",
       "      <td>1974</td>\n",
       "      <td>1970</td>\n",
       "      <td>49</td>\n",
       "      <td>0</td>\n",
       "      <td>1</td>\n",
       "      <td>27</td>\n",
       "      <td>18</td>\n",
       "      <td>11.725948</td>\n",
       "      <td>11.688972</td>\n",
       "    </tr>\n",
       "    <tr>\n",
       "      <th>123093</th>\n",
       "      <td>0</td>\n",
       "      <td>1974</td>\n",
       "      <td>1970</td>\n",
       "      <td>49</td>\n",
       "      <td>0</td>\n",
       "      <td>1</td>\n",
       "      <td>32</td>\n",
       "      <td>11</td>\n",
       "      <td>11.725948</td>\n",
       "      <td>11.688972</td>\n",
       "    </tr>\n",
       "    <tr>\n",
       "      <th>123094</th>\n",
       "      <td>0</td>\n",
       "      <td>1974</td>\n",
       "      <td>1970</td>\n",
       "      <td>49</td>\n",
       "      <td>0</td>\n",
       "      <td>1</td>\n",
       "      <td>30</td>\n",
       "      <td>10</td>\n",
       "      <td>11.725948</td>\n",
       "      <td>11.688972</td>\n",
       "    </tr>\n",
       "    <tr>\n",
       "      <th>123095</th>\n",
       "      <td>0</td>\n",
       "      <td>1974</td>\n",
       "      <td>1970</td>\n",
       "      <td>49</td>\n",
       "      <td>0</td>\n",
       "      <td>1</td>\n",
       "      <td>31</td>\n",
       "      <td>12</td>\n",
       "      <td>11.725948</td>\n",
       "      <td>11.688972</td>\n",
       "    </tr>\n",
       "    <tr>\n",
       "      <th>123096</th>\n",
       "      <td>0</td>\n",
       "      <td>1974</td>\n",
       "      <td>1970</td>\n",
       "      <td>49</td>\n",
       "      <td>0</td>\n",
       "      <td>1</td>\n",
       "      <td>22</td>\n",
       "      <td>4</td>\n",
       "      <td>11.725948</td>\n",
       "      <td>11.688972</td>\n",
       "    </tr>\n",
       "  </tbody>\n",
       "</table>\n",
       "<p>2314 rows × 10 columns</p>\n",
       "</div>"
      ],
      "text/plain": [
       "        gender  year_of_birth  decades  age  system_status  mobile_type  \\\n",
       "834          0           1993     1990   30              0            1   \n",
       "835          0           1993     1990   30              0            1   \n",
       "836          0           1993     1990   30              0            1   \n",
       "837          0           1993     1990   30              0            1   \n",
       "838          0           1993     1990   30              0            1   \n",
       "...        ...            ...      ...  ...            ...          ...   \n",
       "123092       0           1974     1970   49              0            1   \n",
       "123093       0           1974     1970   49              0            1   \n",
       "123094       0           1974     1970   49              0            1   \n",
       "123095       0           1974     1970   49              0            1   \n",
       "123096       0           1974     1970   49              0            1   \n",
       "\n",
       "        week_number  revenue_usd  brand_name_revenue_mean  \\\n",
       "834              26           12                11.450734   \n",
       "835              30            4                11.450734   \n",
       "836              27           16                11.450734   \n",
       "837              35           14                11.450734   \n",
       "838              23           10                11.450734   \n",
       "...             ...          ...                      ...   \n",
       "123092           27           18                11.725948   \n",
       "123093           32           11                11.725948   \n",
       "123094           30           10                11.725948   \n",
       "123095           31           12                11.725948   \n",
       "123096           22            4                11.725948   \n",
       "\n",
       "        os_name_revenue_mean  \n",
       "834                11.385032  \n",
       "835                11.385032  \n",
       "836                11.385032  \n",
       "837                11.385032  \n",
       "838                11.385032  \n",
       "...                      ...  \n",
       "123092             11.688972  \n",
       "123093             11.688972  \n",
       "123094             11.688972  \n",
       "123095             11.688972  \n",
       "123096             11.688972  \n",
       "\n",
       "[2314 rows x 10 columns]"
      ]
     },
     "execution_count": 29,
     "metadata": {},
     "output_type": "execute_result"
    }
   ],
   "source": [
    "## Then to look at how many of those ex customers were male and female\n",
    "\n",
    "## 240 Female customers were suspended\n",
    "ex_customers[ex_customers['gender'] == 1]\n",
    "\n",
    "## 2314 Male customers were suspended\n",
    "ex_customers[ex_customers['gender'] == 0]"
   ]
  },
  {
   "cell_type": "code",
   "execution_count": 31,
   "id": "c809610a",
   "metadata": {},
   "outputs": [
    {
     "name": "stdout",
     "output_type": "stream",
     "text": [
      "The proportion of all suspended female customers is 0.094 and The proportion of all suspended male customers is 0.906\n"
     ]
    }
   ],
   "source": [
    "## Let's look at the proportions of suspended customers among the genders\n",
    "\n",
    "all_female_ex_customers = round((len(ex_customers[ex_customers[\"gender\"] == 1][\"gender\"])/len(ex_customers)),3)\n",
    "\n",
    "all_male_ex_customers = round((1 - all_female_ex_customers),3)\n",
    "\n",
    "print(\"The proportion of all suspended female customers is {} and The proportion of all suspended male customers is {}\".format(all_female_ex_customers,\n",
    "                                                                                                           all_male_ex_customers))\n",
    "                                              "
   ]
  },
  {
   "cell_type": "markdown",
   "id": "3b479711",
   "metadata": {},
   "source": [
    "### EDA"
   ]
  },
  {
   "cell_type": "code",
   "execution_count": 32,
   "id": "7613a0a7",
   "metadata": {},
   "outputs": [
    {
     "data": {
      "image/png": "[encoded data removed]",
      "text/plain": [
       "<Figure size 800x600 with 1 Axes>"
      ]
     },
     "metadata": {},
     "output_type": "display_data"
    }
   ],
   "source": [
    "## Lookin at the gender spread across all data\n",
    "\n",
    "sns.countplot(data=cleaned_data, x = 'gender')\n",
    "plt.title('Genders across all data', fontweight = 'bold')\n",
    "plt.xticks([0,1],labels=['Male', 'Female'], fontweight = 'bold')\n",
    "\n",
    "plt.ylabel('Number of records', fontweight = 'bold')\n",
    "plt.xlabel('Gender', fontweight = 'bold');"
   ]
  },
  {
   "cell_type": "code",
   "execution_count": 33,
   "id": "d16e28a4",
   "metadata": {},
   "outputs": [
    {
     "data": {
      "image/png": "[encoded data removed]",
      "text/plain": [
       "<Figure size 800x600 with 1 Axes>"
      ]
     },
     "metadata": {},
     "output_type": "display_data"
    }
   ],
   "source": [
    "## Comparison of genders that use Active accounts\n",
    "\n",
    "sns.countplot(data=active_acc, x = 'gender')\n",
    "plt.title('Genders across active data', fontweight = 'bold')\n",
    "plt.xticks([0,1],labels=['Male', 'Female'], fontweight = 'bold')\n",
    "\n",
    "plt.ylabel('Number of records', fontweight = 'bold')\n",
    "plt.xlabel('Gender', fontweight = 'bold');"
   ]
  },
  {
   "cell_type": "code",
   "execution_count": 34,
   "id": "cee79cb8",
   "metadata": {},
   "outputs": [
    {
     "data": {
      "image/png": "[encoded data removed]",
      "text/plain": [
       "<Figure size 800x600 with 1 Axes>"
      ]
     },
     "metadata": {},
     "output_type": "display_data"
    }
   ],
   "source": [
    "## Comparison of genders that have Suspended accounts\n",
    "\n",
    "sns.countplot(data=ex_customers, x = 'gender')\n",
    "plt.title('Genders across active data', fontweight = 'bold')\n",
    "plt.xticks([0,1],labels=['Male', 'Female'], fontweight = 'bold')\n",
    "\n",
    "plt.ylabel('Number of records', fontweight = 'bold')\n",
    "plt.xlabel('Gender', fontweight = 'bold');"
   ]
  },
  {
   "cell_type": "code",
   "execution_count": 35,
   "id": "a725d3f3",
   "metadata": {},
   "outputs": [
    {
     "data": {
      "image/png": "[encoded data removed]",
      "text/plain": [
       "<Figure size 1200x600 with 3 Axes>"
      ]
     },
     "metadata": {},
     "output_type": "display_data"
    }
   ],
   "source": [
    "## These subplots will show us the Age distribution across the data, Active and Suspended\n",
    "\n",
    "fig, axs = plt.subplots(nrows=1,ncols=3, figsize = (12,6))\n",
    "\n",
    "ax_1 = sns.distplot(cleaned_data['age'], kde = True, bins = 40, ax=axs[0])\n",
    "ax_1.set_title('Distribution of ages across ALL data', fontweight = 'bold')\n",
    "\n",
    "ax_2 = sns.distplot(active_acc['age'], kde = True, bins = 40, ax = axs[1])\n",
    "ax_2.set_title('Distribution of ages across all Active customers', fontweight = 'bold')\n",
    "\n",
    "ax_3 = sns.distplot(ex_customers['age'], kde = True, bins = 40, ax = axs[2])\n",
    "ax_3.set_title('Distribution of ages across all Suspended customers', fontweight = 'bold')\n",
    "\n",
    "\n",
    "plt.tight_layout()"
   ]
  },
  {
   "cell_type": "code",
   "execution_count": 36,
   "id": "48baf605",
   "metadata": {},
   "outputs": [
    {
     "data": {
      "text/plain": [
       "Text(0, 0.5, 'Revenue')"
      ]
     },
     "execution_count": 36,
     "metadata": {},
     "output_type": "execute_result"
    },
    {
     "data": {
      "image/png": "[encoded data removed]",
      "text/plain": [
       "<Figure size 800x600 with 1 Axes>"
      ]
     },
     "metadata": {},
     "output_type": "display_data"
    }
   ],
   "source": [
    "## Revenue across the decades for all customer\n",
    "\n",
    "sns.barplot(data=cleaned_data, y = 'revenue_usd', x = 'decades')\n",
    "\n",
    "plt.title('Revenues aross the Decades for all customers')\n",
    "plt.xlabel('Decades', fontsize = 12, fontweight = 'bold')\n",
    "plt.ylabel('Revenue',  fontsize = 12, fontweight = 'bold')"
   ]
  },
  {
   "cell_type": "code",
   "execution_count": 37,
   "id": "1dc8ceb7",
   "metadata": {},
   "outputs": [
    {
     "data": {
      "text/plain": [
       "Text(0, 0.5, 'Revenue')"
      ]
     },
     "execution_count": 37,
     "metadata": {},
     "output_type": "execute_result"
    },
    {
     "data": {
      "image/png": "[encoded data removed]",
      "text/plain": [
       "<Figure size 800x600 with 1 Axes>"
      ]
     },
     "metadata": {},
     "output_type": "display_data"
    }
   ],
   "source": [
    "## Revenue across the decades from active customers\n",
    "\n",
    "sns.barplot(data=active_acc, y = 'revenue_usd', x = 'decades')\n",
    "\n",
    "plt.title('Revenues aross the Decades from Active customers')\n",
    "plt.xlabel('Decades', fontsize = 12, fontweight = 'bold')\n",
    "plt.ylabel('Revenue',  fontsize = 12, fontweight = 'bold')"
   ]
  },
  {
   "cell_type": "code",
   "execution_count": 38,
   "id": "ec5b41fd",
   "metadata": {},
   "outputs": [
    {
     "data": {
      "text/plain": [
       "Text(0, 0.5, 'Revenue')"
      ]
     },
     "execution_count": 38,
     "metadata": {},
     "output_type": "execute_result"
    },
    {
     "data": {
      "image/png": "[encoded data removed]",
      "text/plain": [
       "<Figure size 800x600 with 1 Axes>"
      ]
     },
     "metadata": {},
     "output_type": "display_data"
    }
   ],
   "source": [
    "## Revenue across the decades from suspended customers\n",
    "\n",
    "sns.barplot(data=ex_customers, y = 'revenue_usd', x = 'decades')\n",
    "\n",
    "plt.title('Revenues aross the Decades from suspended customers')\n",
    "plt.xlabel('Decades', fontsize = 12, fontweight = 'bold')\n",
    "plt.ylabel('Revenue',  fontsize = 12, fontweight = 'bold')"
   ]
  },
  {
   "cell_type": "markdown",
   "id": "db759990",
   "metadata": {},
   "source": [
    "# Choosing the correct model"
   ]
  },
  {
   "cell_type": "markdown",
   "id": "de644650",
   "metadata": {},
   "source": [
    "## Train_test_split"
   ]
  },
  {
   "cell_type": "code",
   "execution_count": 39,
   "id": "a19f6584",
   "metadata": {},
   "outputs": [],
   "source": [
    "X = cleaned_data.drop(['system_status'], axis = 1)\n",
    "\n",
    "y = cleaned_data['system_status']"
   ]
  },
  {
   "cell_type": "code",
   "execution_count": 40,
   "id": "bca42560",
   "metadata": {},
   "outputs": [],
   "source": [
    "X_train, X_test, y_train, y_test = train_test_split(X, y, test_size=0.20, random_state=101)"
   ]
  },
  {
   "cell_type": "code",
   "execution_count": 41,
   "id": "abfc56c3",
   "metadata": {},
   "outputs": [
    {
     "name": "stdout",
     "output_type": "stream",
     "text": [
      "X_train shape (99320, 9)\n",
      "X_test shape (24830, 9)\n",
      "y_train shape (99320,)\n",
      "y_test shape (24830,)\n"
     ]
    }
   ],
   "source": [
    "print(f'X_train shape {X_train.shape}')\n",
    "print(f'X_test shape {X_test.shape}')\n",
    "print(f'y_train shape {y_train.shape}')\n",
    "print(f'y_test shape {y_test.shape}')"
   ]
  },
  {
   "cell_type": "markdown",
   "id": "a6e6019a",
   "metadata": {},
   "source": [
    "### Decision tree"
   ]
  },
  {
   "cell_type": "code",
   "execution_count": 42,
   "id": "93510ad8",
   "metadata": {},
   "outputs": [
    {
     "name": "stdout",
     "output_type": "stream",
     "text": [
      "Best parameters are criterion gini, max_depth 1, min_samples_leaf 6\n",
      "Best accuracy is 0.9787354007249295\n"
     ]
    }
   ],
   "source": [
    "## Evaluation that will help us to determine best Hypeparameters for max_depth and min_samples_leaf as well as the criterion\n",
    "best_acc = 0\n",
    "for criterion in ['gini', 'entropy']:\n",
    "    for max_depth in [1,2,3,4,5]:\n",
    "        for min_sample_leaf in [6,7,8,9,10]:\n",
    "            dtree = DecisionTreeClassifier(max_depth = max_depth, criterion=criterion, min_samples_leaf = min_sample_leaf)\n",
    "            dtree.fit(X_train, y_train)\n",
    "            predictions = dtree.predict(X_test)\n",
    "            test_acc = accuracy_score(y_test, predictions)\n",
    "            if test_acc > best_acc:\n",
    "                best_params = f\"criterion {criterion}, max_depth {max_depth}, min_samples_leaf {min_sample_leaf}\"\n",
    "                best_acc = test_acc\n",
    "                \n",
    "print(f\"Best parameters are {best_params}\")\n",
    "print(f\"Best accuracy is {best_acc}\")"
   ]
  },
  {
   "cell_type": "code",
   "execution_count": 43,
   "id": "5cf91b2d",
   "metadata": {},
   "outputs": [
    {
     "data": {
      "text/html": [
       "<style>#sk-container-id-1 {color: black;background-color: white;}#sk-container-id-1 pre{padding: 0;}#sk-container-id-1 div.sk-toggleable {background-color: white;}#sk-container-id-1 label.sk-toggleable__label {cursor: pointer;display: block;width: 100%;margin-bottom: 0;padding: 0.3em;box-sizing: border-box;text-align: center;}#sk-container-id-1 label.sk-toggleable__label-arrow:before {content: \"▸\";float: left;margin-right: 0.25em;color: #696969;}#sk-container-id-1 label.sk-toggleable__label-arrow:hover:before {color: black;}#sk-container-id-1 div.sk-estimator:hover label.sk-toggleable__label-arrow:before {color: black;}#sk-container-id-1 div.sk-toggleable__content {max-height: 0;max-width: 0;overflow: hidden;text-align: left;background-color: #f0f8ff;}#sk-container-id-1 div.sk-toggleable__content pre {margin: 0.2em;color: black;border-radius: 0.25em;background-color: #f0f8ff;}#sk-container-id-1 input.sk-toggleable__control:checked~div.sk-toggleable__content {max-height: 200px;max-width: 100%;overflow: auto;}#sk-container-id-1 input.sk-toggleable__control:checked~label.sk-toggleable__label-arrow:before {content: \"▾\";}#sk-container-id-1 div.sk-estimator input.sk-toggleable__control:checked~label.sk-toggleable__label {background-color: #d4ebff;}#sk-container-id-1 div.sk-label input.sk-toggleable__control:checked~label.sk-toggleable__label {background-color: #d4ebff;}#sk-container-id-1 input.sk-hidden--visually {border: 0;clip: rect(1px 1px 1px 1px);clip: rect(1px, 1px, 1px, 1px);height: 1px;margin: -1px;overflow: hidden;padding: 0;position: absolute;width: 1px;}#sk-container-id-1 div.sk-estimator {font-family: monospace;background-color: #f0f8ff;border: 1px dotted black;border-radius: 0.25em;box-sizing: border-box;margin-bottom: 0.5em;}#sk-container-id-1 div.sk-estimator:hover {background-color: #d4ebff;}#sk-container-id-1 div.sk-parallel-item::after {content: \"\";width: 100%;border-bottom: 1px solid gray;flex-grow: 1;}#sk-container-id-1 div.sk-label:hover label.sk-toggleable__label {background-color: #d4ebff;}#sk-container-id-1 div.sk-serial::before {content: \"\";position: absolute;border-left: 1px solid gray;box-sizing: border-box;top: 0;bottom: 0;left: 50%;z-index: 0;}#sk-container-id-1 div.sk-serial {display: flex;flex-direction: column;align-items: center;background-color: white;padding-right: 0.2em;padding-left: 0.2em;position: relative;}#sk-container-id-1 div.sk-item {position: relative;z-index: 1;}#sk-container-id-1 div.sk-parallel {display: flex;align-items: stretch;justify-content: center;background-color: white;position: relative;}#sk-container-id-1 div.sk-item::before, #sk-container-id-1 div.sk-parallel-item::before {content: \"\";position: absolute;border-left: 1px solid gray;box-sizing: border-box;top: 0;bottom: 0;left: 50%;z-index: -1;}#sk-container-id-1 div.sk-parallel-item {display: flex;flex-direction: column;z-index: 1;position: relative;background-color: white;}#sk-container-id-1 div.sk-parallel-item:first-child::after {align-self: flex-end;width: 50%;}#sk-container-id-1 div.sk-parallel-item:last-child::after {align-self: flex-start;width: 50%;}#sk-container-id-1 div.sk-parallel-item:only-child::after {width: 0;}#sk-container-id-1 div.sk-dashed-wrapped {border: 1px dashed gray;margin: 0 0.4em 0.5em 0.4em;box-sizing: border-box;padding-bottom: 0.4em;background-color: white;}#sk-container-id-1 div.sk-label label {font-family: monospace;font-weight: bold;display: inline-block;line-height: 1.2em;}#sk-container-id-1 div.sk-label-container {text-align: center;}#sk-container-id-1 div.sk-container {/* jupyter's `normalize.less` sets `[hidden] { display: none; }` but bootstrap.min.css set `[hidden] { display: none !important; }` so we also need the `!important` here to be able to override the default hidden behavior on the sphinx rendered scikit-learn.org. See: https://github.com/scikit-learn/scikit-learn/issues/21755 */display: inline-block !important;position: relative;}#sk-container-id-1 div.sk-text-repr-fallback {display: none;}</style><div id=\"sk-container-id-1\" class=\"sk-top-container\"><div class=\"sk-text-repr-fallback\"><pre>DecisionTreeClassifier(max_depth=1, min_samples_leaf=6, random_state=101)</pre><b>In a Jupyter environment, please rerun this cell to show the HTML representation or trust the notebook. <br />On GitHub, the HTML representation is unable to render, please try loading this page with nbviewer.org.</b></div><div class=\"sk-container\" hidden><div class=\"sk-item\"><div class=\"sk-estimator sk-toggleable\"><input class=\"sk-toggleable__control sk-hidden--visually\" id=\"sk-estimator-id-1\" type=\"checkbox\" checked><label for=\"sk-estimator-id-1\" class=\"sk-toggleable__label sk-toggleable__label-arrow\">DecisionTreeClassifier</label><div class=\"sk-toggleable__content\"><pre>DecisionTreeClassifier(max_depth=1, min_samples_leaf=6, random_state=101)</pre></div></div></div></div></div>"
      ],
      "text/plain": [
       "DecisionTreeClassifier(max_depth=1, min_samples_leaf=6, random_state=101)"
      ]
     },
     "execution_count": 43,
     "metadata": {},
     "output_type": "execute_result"
    }
   ],
   "source": [
    "dtree = DecisionTreeClassifier(max_depth = 1, criterion='gini', min_samples_leaf = 6, random_state=101)\n",
    "dtree.fit(X_train, y_train)"
   ]
  },
  {
   "cell_type": "markdown",
   "id": "7359e325",
   "metadata": {},
   "source": [
    "## Calculating feature importance"
   ]
  },
  {
   "cell_type": "code",
   "execution_count": 46,
   "id": "7433334a",
   "metadata": {},
   "outputs": [
    {
     "name": "stdout",
     "output_type": "stream",
     "text": [
      "Importance of Feature gender:, 0.000\n",
      "Importance of Feature year_of_birth:, 1.000\n",
      "Importance of Feature decades:, 0.000\n",
      "Importance of Feature age:, 0.000\n",
      "Importance of Feature mobile_type:, 0.000\n",
      "Importance of Feature week_number:, 0.000\n",
      "Importance of Feature revenue_usd:, 0.000\n",
      "Importance of Feature brand_name_revenue_mean:, 0.000\n",
      "Importance of Feature os_name_revenue_mean:, 0.000\n"
     ]
    }
   ],
   "source": [
    "for i, column in enumerate(cleaned_data.drop(['system_status'], axis = 1)):\n",
    "    print('Importance of Feature {}:, {:.3f}'.format(column, dtree.feature_importances_[i]))\n",
    "    \n",
    "    fi = pd.DataFrame({'Variable':[column],\n",
    "                            'Feature Importance Score': [dtree.feature_importances_[i]]})\n",
    "    try:\n",
    "        final_fi = pd.concat([final_fi, fi], ignore_index=True)\n",
    "    except:\n",
    "        final_fi = fi"
   ]
  },
  {
   "cell_type": "code",
   "execution_count": 47,
   "id": "3fa55a0f",
   "metadata": {},
   "outputs": [
    {
     "data": {
      "text/html": [
       "<div>\n",
       "<style scoped>\n",
       "    .dataframe tbody tr th:only-of-type {\n",
       "        vertical-align: middle;\n",
       "    }\n",
       "\n",
       "    .dataframe tbody tr th {\n",
       "        vertical-align: top;\n",
       "    }\n",
       "\n",
       "    .dataframe thead th {\n",
       "        text-align: right;\n",
       "    }\n",
       "</style>\n",
       "<table border=\"1\" class=\"dataframe\">\n",
       "  <thead>\n",
       "    <tr style=\"text-align: right;\">\n",
       "      <th></th>\n",
       "      <th>Variable</th>\n",
       "      <th>Feature Importance Score</th>\n",
       "    </tr>\n",
       "  </thead>\n",
       "  <tbody>\n",
       "    <tr>\n",
       "      <th>1</th>\n",
       "      <td>year_of_birth</td>\n",
       "      <td>1.0</td>\n",
       "    </tr>\n",
       "    <tr>\n",
       "      <th>0</th>\n",
       "      <td>gender</td>\n",
       "      <td>0.0</td>\n",
       "    </tr>\n",
       "    <tr>\n",
       "      <th>2</th>\n",
       "      <td>decades</td>\n",
       "      <td>0.0</td>\n",
       "    </tr>\n",
       "    <tr>\n",
       "      <th>3</th>\n",
       "      <td>age</td>\n",
       "      <td>0.0</td>\n",
       "    </tr>\n",
       "    <tr>\n",
       "      <th>4</th>\n",
       "      <td>mobile_type</td>\n",
       "      <td>0.0</td>\n",
       "    </tr>\n",
       "    <tr>\n",
       "      <th>5</th>\n",
       "      <td>week_number</td>\n",
       "      <td>0.0</td>\n",
       "    </tr>\n",
       "    <tr>\n",
       "      <th>6</th>\n",
       "      <td>revenue_usd</td>\n",
       "      <td>0.0</td>\n",
       "    </tr>\n",
       "    <tr>\n",
       "      <th>7</th>\n",
       "      <td>brand_name_revenue_mean</td>\n",
       "      <td>0.0</td>\n",
       "    </tr>\n",
       "    <tr>\n",
       "      <th>8</th>\n",
       "      <td>os_name_revenue_mean</td>\n",
       "      <td>0.0</td>\n",
       "    </tr>\n",
       "  </tbody>\n",
       "</table>\n",
       "</div>"
      ],
      "text/plain": [
       "                  Variable  Feature Importance Score\n",
       "1            year_of_birth                       1.0\n",
       "0                   gender                       0.0\n",
       "2                  decades                       0.0\n",
       "3                      age                       0.0\n",
       "4              mobile_type                       0.0\n",
       "5              week_number                       0.0\n",
       "6              revenue_usd                       0.0\n",
       "7  brand_name_revenue_mean                       0.0\n",
       "8     os_name_revenue_mean                       0.0"
      ]
     },
     "execution_count": 47,
     "metadata": {},
     "output_type": "execute_result"
    }
   ],
   "source": [
    "final_fi = final_fi.sort_values(by = 'Feature Importance Score', ascending = False)\n",
    "\n",
    "final_fi"
   ]
  },
  {
   "cell_type": "markdown",
   "id": "c535bb69",
   "metadata": {},
   "source": [
    "## Checking the accuracies for train and test data"
   ]
  },
  {
   "cell_type": "code",
   "execution_count": 48,
   "id": "ef672433",
   "metadata": {},
   "outputs": [
    {
     "name": "stdout",
     "output_type": "stream",
     "text": [
      "Training Accuracy score is :0.9796012887635924\n",
      "Testing Accuracy score is :0.9787354007249295\n"
     ]
    }
   ],
   "source": [
    "print(f\"Training Accuracy score is :{dtree.score(X_train, y_train)}\")\n",
    "print(f\"Testing Accuracy score is :{dtree.score(X_test, y_test)}\")"
   ]
  },
  {
   "cell_type": "code",
   "execution_count": 50,
   "id": "b6f407de",
   "metadata": {},
   "outputs": [
    {
     "name": "stdout",
     "output_type": "stream",
     "text": [
      "              precision    recall  f1-score   support\n",
      "\n",
      "           0       0.00      0.00      0.00       528\n",
      "           1       0.98      1.00      0.99     24302\n",
      "\n",
      "    accuracy                           0.98     24830\n",
      "   macro avg       0.49      0.50      0.49     24830\n",
      "weighted avg       0.96      0.98      0.97     24830\n",
      "\n"
     ]
    }
   ],
   "source": [
    "## Classification report\n",
    "y_pred = dtree.predict(X_test)\n",
    "\n",
    "print(classification_report(y_test, y_pred))\n",
    "\n",
    "\n",
    "## We can see that due to the fact that the data is imbalanced the model just memorized the active users ignoring the suspeded ones"
   ]
  },
  {
   "cell_type": "markdown",
   "id": "5667ba20",
   "metadata": {},
   "source": [
    "## Imbalanced Data\n",
    "\n",
    "### We can see clearly that the target column is imbalanced.\n",
    "### So we will try to up - sample the 'Suspended' customers to create a balance between two values"
   ]
  },
  {
   "cell_type": "code",
   "execution_count": 51,
   "id": "2eb0d0b1",
   "metadata": {},
   "outputs": [
    {
     "data": {
      "text/plain": [
       "1    121596\n",
       "0      2554\n",
       "Name: system_status, dtype: int64"
      ]
     },
     "execution_count": 51,
     "metadata": {},
     "output_type": "execute_result"
    }
   ],
   "source": [
    "cleaned_data['system_status'].value_counts()"
   ]
  },
  {
   "cell_type": "code",
   "execution_count": 52,
   "id": "5e26d462",
   "metadata": {},
   "outputs": [
    {
     "data": {
      "text/plain": [
       "<Axes: xlabel='system_status', ylabel='count'>"
      ]
     },
     "execution_count": 52,
     "metadata": {},
     "output_type": "execute_result"
    },
    {
     "data": {
      "image/png": "[encoded data removed]",
      "text/plain": [
       "<Figure size 800x600 with 1 Axes>"
      ]
     },
     "metadata": {},
     "output_type": "display_data"
    }
   ],
   "source": [
    "sns.countplot(data = cleaned_data, x = 'system_status')"
   ]
  },
  {
   "cell_type": "code",
   "execution_count": 53,
   "id": "fd12b582",
   "metadata": {},
   "outputs": [],
   "source": [
    "from sklearn.utils import resample"
   ]
  },
  {
   "cell_type": "code",
   "execution_count": 54,
   "id": "7be79426",
   "metadata": {},
   "outputs": [],
   "source": [
    "## Dividing the data into 'Active' and 'Suspended' customers' dataset\n",
    "\n",
    "df_minority = cleaned_data[cleaned_data['system_status'] == 0]\n",
    "df_majority = cleaned_data[cleaned_data['system_status'] == 1]"
   ]
  },
  {
   "cell_type": "code",
   "execution_count": 55,
   "id": "bb986e94",
   "metadata": {},
   "outputs": [],
   "source": [
    "## Synthetically up-sampling the 'Suspended' customers to create balance between values\n",
    "\n",
    "df_minority_upsampled = resample(df_minority, \n",
    "                                 replace=True,\n",
    "                                 n_samples=121596,\n",
    "                                 random_state=101)"
   ]
  },
  {
   "cell_type": "code",
   "execution_count": 56,
   "id": "59e452a1",
   "metadata": {},
   "outputs": [],
   "source": [
    "## Joining those samples together\n",
    "sampled = pd.concat([df_minority_upsampled, df_majority])"
   ]
  },
  {
   "cell_type": "code",
   "execution_count": 57,
   "id": "f50db7f7",
   "metadata": {},
   "outputs": [
    {
     "data": {
      "text/plain": [
       "0    121596\n",
       "1    121596\n",
       "Name: system_status, dtype: int64"
      ]
     },
     "execution_count": 57,
     "metadata": {},
     "output_type": "execute_result"
    }
   ],
   "source": [
    "sampled['system_status'].value_counts()"
   ]
  },
  {
   "cell_type": "code",
   "execution_count": 58,
   "id": "662ad5ac",
   "metadata": {},
   "outputs": [],
   "source": [
    "sampled = sampled.reset_index().drop(['index'], axis = 1)"
   ]
  },
  {
   "cell_type": "markdown",
   "id": "0b59f227",
   "metadata": {},
   "source": [
    "### Trying to build a Decision tree model on that sample data"
   ]
  },
  {
   "cell_type": "code",
   "execution_count": 60,
   "id": "f4294b91",
   "metadata": {},
   "outputs": [],
   "source": [
    "X = sampled.drop(['system_status'], axis = 1)\n",
    "\n",
    "y = sampled['system_status']\n",
    "\n",
    "X_train, X_test, y_train, y_test = train_test_split(X, y, test_size=0.20, random_state=101)"
   ]
  },
  {
   "cell_type": "code",
   "execution_count": 61,
   "id": "46778fc2",
   "metadata": {},
   "outputs": [
    {
     "name": "stdout",
     "output_type": "stream",
     "text": [
      "Best parameters are criterion gini, max_depth 5, min_samples_leaf 6\n",
      "Best accuracy is 0.6060157486790436\n"
     ]
    }
   ],
   "source": [
    "best_acc = 0\n",
    "for criterion in ['gini', 'entropy']:\n",
    "    for max_depth in [1,2,3,4,5]:\n",
    "        for min_sample_leaf in [6,7,8,9,10]:\n",
    "            dtree = DecisionTreeClassifier(max_depth = max_depth, criterion=criterion, min_samples_leaf = min_sample_leaf)\n",
    "            dtree.fit(X_train, y_train)\n",
    "            predictions = dtree.predict(X_test)\n",
    "            test_acc = accuracy_score(y_test, predictions)\n",
    "            if test_acc > best_acc:\n",
    "                best_params = f\"criterion {criterion}, max_depth {max_depth}, min_samples_leaf {min_sample_leaf}\"\n",
    "                best_acc = test_acc\n",
    "                \n",
    "print(f\"Best parameters are {best_params}\")\n",
    "print(f\"Best accuracy is {best_acc}\")"
   ]
  },
  {
   "cell_type": "code",
   "execution_count": 62,
   "id": "3544cd63",
   "metadata": {},
   "outputs": [
    {
     "data": {
      "text/html": [
       "<style>#sk-container-id-2 {color: black;background-color: white;}#sk-container-id-2 pre{padding: 0;}#sk-container-id-2 div.sk-toggleable {background-color: white;}#sk-container-id-2 label.sk-toggleable__label {cursor: pointer;display: block;width: 100%;margin-bottom: 0;padding: 0.3em;box-sizing: border-box;text-align: center;}#sk-container-id-2 label.sk-toggleable__label-arrow:before {content: \"▸\";float: left;margin-right: 0.25em;color: #696969;}#sk-container-id-2 label.sk-toggleable__label-arrow:hover:before {color: black;}#sk-container-id-2 div.sk-estimator:hover label.sk-toggleable__label-arrow:before {color: black;}#sk-container-id-2 div.sk-toggleable__content {max-height: 0;max-width: 0;overflow: hidden;text-align: left;background-color: #f0f8ff;}#sk-container-id-2 div.sk-toggleable__content pre {margin: 0.2em;color: black;border-radius: 0.25em;background-color: #f0f8ff;}#sk-container-id-2 input.sk-toggleable__control:checked~div.sk-toggleable__content {max-height: 200px;max-width: 100%;overflow: auto;}#sk-container-id-2 input.sk-toggleable__control:checked~label.sk-toggleable__label-arrow:before {content: \"▾\";}#sk-container-id-2 div.sk-estimator input.sk-toggleable__control:checked~label.sk-toggleable__label {background-color: #d4ebff;}#sk-container-id-2 div.sk-label input.sk-toggleable__control:checked~label.sk-toggleable__label {background-color: #d4ebff;}#sk-container-id-2 input.sk-hidden--visually {border: 0;clip: rect(1px 1px 1px 1px);clip: rect(1px, 1px, 1px, 1px);height: 1px;margin: -1px;overflow: hidden;padding: 0;position: absolute;width: 1px;}#sk-container-id-2 div.sk-estimator {font-family: monospace;background-color: #f0f8ff;border: 1px dotted black;border-radius: 0.25em;box-sizing: border-box;margin-bottom: 0.5em;}#sk-container-id-2 div.sk-estimator:hover {background-color: #d4ebff;}#sk-container-id-2 div.sk-parallel-item::after {content: \"\";width: 100%;border-bottom: 1px solid gray;flex-grow: 1;}#sk-container-id-2 div.sk-label:hover label.sk-toggleable__label {background-color: #d4ebff;}#sk-container-id-2 div.sk-serial::before {content: \"\";position: absolute;border-left: 1px solid gray;box-sizing: border-box;top: 0;bottom: 0;left: 50%;z-index: 0;}#sk-container-id-2 div.sk-serial {display: flex;flex-direction: column;align-items: center;background-color: white;padding-right: 0.2em;padding-left: 0.2em;position: relative;}#sk-container-id-2 div.sk-item {position: relative;z-index: 1;}#sk-container-id-2 div.sk-parallel {display: flex;align-items: stretch;justify-content: center;background-color: white;position: relative;}#sk-container-id-2 div.sk-item::before, #sk-container-id-2 div.sk-parallel-item::before {content: \"\";position: absolute;border-left: 1px solid gray;box-sizing: border-box;top: 0;bottom: 0;left: 50%;z-index: -1;}#sk-container-id-2 div.sk-parallel-item {display: flex;flex-direction: column;z-index: 1;position: relative;background-color: white;}#sk-container-id-2 div.sk-parallel-item:first-child::after {align-self: flex-end;width: 50%;}#sk-container-id-2 div.sk-parallel-item:last-child::after {align-self: flex-start;width: 50%;}#sk-container-id-2 div.sk-parallel-item:only-child::after {width: 0;}#sk-container-id-2 div.sk-dashed-wrapped {border: 1px dashed gray;margin: 0 0.4em 0.5em 0.4em;box-sizing: border-box;padding-bottom: 0.4em;background-color: white;}#sk-container-id-2 div.sk-label label {font-family: monospace;font-weight: bold;display: inline-block;line-height: 1.2em;}#sk-container-id-2 div.sk-label-container {text-align: center;}#sk-container-id-2 div.sk-container {/* jupyter's `normalize.less` sets `[hidden] { display: none; }` but bootstrap.min.css set `[hidden] { display: none !important; }` so we also need the `!important` here to be able to override the default hidden behavior on the sphinx rendered scikit-learn.org. See: https://github.com/scikit-learn/scikit-learn/issues/21755 */display: inline-block !important;position: relative;}#sk-container-id-2 div.sk-text-repr-fallback {display: none;}</style><div id=\"sk-container-id-2\" class=\"sk-top-container\"><div class=\"sk-text-repr-fallback\"><pre>DecisionTreeClassifier(max_depth=5, min_samples_leaf=6, random_state=101)</pre><b>In a Jupyter environment, please rerun this cell to show the HTML representation or trust the notebook. <br />On GitHub, the HTML representation is unable to render, please try loading this page with nbviewer.org.</b></div><div class=\"sk-container\" hidden><div class=\"sk-item\"><div class=\"sk-estimator sk-toggleable\"><input class=\"sk-toggleable__control sk-hidden--visually\" id=\"sk-estimator-id-2\" type=\"checkbox\" checked><label for=\"sk-estimator-id-2\" class=\"sk-toggleable__label sk-toggleable__label-arrow\">DecisionTreeClassifier</label><div class=\"sk-toggleable__content\"><pre>DecisionTreeClassifier(max_depth=5, min_samples_leaf=6, random_state=101)</pre></div></div></div></div></div>"
      ],
      "text/plain": [
       "DecisionTreeClassifier(max_depth=5, min_samples_leaf=6, random_state=101)"
      ]
     },
     "execution_count": 62,
     "metadata": {},
     "output_type": "execute_result"
    }
   ],
   "source": [
    "dtree = DecisionTreeClassifier(max_depth = 5, criterion='gini', min_samples_leaf = 6, random_state=101)\n",
    "dtree.fit(X_train, y_train)"
   ]
  },
  {
   "cell_type": "code",
   "execution_count": 63,
   "id": "a18953f3",
   "metadata": {},
   "outputs": [
    {
     "name": "stdout",
     "output_type": "stream",
     "text": [
      "Importance of Feature gender:, 0.038\n",
      "Importance of Feature year_of_birth:, 0.302\n",
      "Importance of Feature decades:, 0.048\n",
      "Importance of Feature age:, 0.094\n",
      "Importance of Feature mobile_type:, 0.000\n",
      "Importance of Feature week_number:, 0.000\n",
      "Importance of Feature revenue_usd:, 0.000\n",
      "Importance of Feature brand_name_revenue_mean:, 0.327\n",
      "Importance of Feature os_name_revenue_mean:, 0.189\n"
     ]
    }
   ],
   "source": [
    "for i, column in enumerate(cleaned_data.drop(['system_status'], axis = 1)):\n",
    "    print('Importance of Feature {}:, {:.3f}'.format(column, dtree.feature_importances_[i]))\n",
    "    \n",
    "    fi = pd.DataFrame({'Variable':[column],\n",
    "                            'Feature Importance Score': [dtree.feature_importances_[i]]})\n",
    "    try:\n",
    "        final_fi = pd.concat([final_fi, fi], ignore_index=True)\n",
    "    except:\n",
    "        final_fi = feat_imp"
   ]
  },
  {
   "cell_type": "code",
   "execution_count": 64,
   "id": "d413fc04",
   "metadata": {},
   "outputs": [
    {
     "name": "stdout",
     "output_type": "stream",
     "text": [
      "Training Accuracy score is :0.6099212039906864\n",
      "Testing Accuracy score is :0.6060157486790436\n"
     ]
    }
   ],
   "source": [
    "## We can see that the accuracy has dropped to 60%\n",
    "\n",
    "print(f\"Training Accuracy score is :{dtree.score(X_train, y_train)}\")\n",
    "print(f\"Testing Accuracy score is :{dtree.score(X_test, y_test)}\")"
   ]
  },
  {
   "cell_type": "code",
   "execution_count": 66,
   "id": "fe12eaa2",
   "metadata": {},
   "outputs": [
    {
     "name": "stdout",
     "output_type": "stream",
     "text": [
      "              precision    recall  f1-score   support\n",
      "\n",
      "           0       0.57      0.82      0.67     24242\n",
      "           1       0.69      0.39      0.50     24397\n",
      "\n",
      "    accuracy                           0.61     48639\n",
      "   macro avg       0.63      0.61      0.59     48639\n",
      "weighted avg       0.63      0.61      0.59     48639\n",
      "\n"
     ]
    }
   ],
   "source": [
    "y_pred = dtree.predict(X_test)\n",
    "\n",
    "# The accuracy dropped to 60% but we can see that at least the model started to recognize suspended users\n",
    "print(classification_report(y_test, y_pred))"
   ]
  },
  {
   "cell_type": "code",
   "execution_count": 67,
   "id": "b40e1f17",
   "metadata": {},
   "outputs": [],
   "source": [
    "from sklearn.metrics import ConfusionMatrixDisplay"
   ]
  },
  {
   "cell_type": "code",
   "execution_count": 68,
   "id": "a5a64da7",
   "metadata": {},
   "outputs": [
    {
     "data": {
      "image/png": "[encoded data removed]",
      "text/plain": [
       "<Figure size 800x600 with 2 Axes>"
      ]
     },
     "metadata": {},
     "output_type": "display_data"
    }
   ],
   "source": [
    "cm = confusion_matrix(y_test, y_pred)\n",
    "\n",
    "graph = ConfusionMatrixDisplay(cm,display_labels=dtree.classes_)\n",
    "\n",
    "graph.plot()\n",
    "\n",
    "plt.show();"
   ]
  },
  {
   "cell_type": "markdown",
   "id": "93a9840e",
   "metadata": {},
   "source": [
    "### Let's look at the performance of Random Forest model"
   ]
  },
  {
   "cell_type": "code",
   "execution_count": null,
   "id": "709e4300",
   "metadata": {},
   "outputs": [],
   "source": [
    "# best_acc = 0\n",
    "# for criterion in ['gini', 'entropy']:\n",
    "#     for max_depth in [1,2,3,4,5]:\n",
    "#         for n_estimators in [50,100]:\n",
    "#             r_forst = RandomForestClassifier(max_depth = max_depth, criterion=criterion, n_estimators = n_estimators)\n",
    "#             r_forst.fit(X_train, y_train)\n",
    "#             predictions = r_forst.predict(X_test)\n",
    "#             test_acc = accuracy_score(y_test, predictions)\n",
    "#             if test_acc > best_acc:\n",
    "#                 best_params = f\"criterion {criterion}, max_depth {max_depth}, n_estimators {n_estimators}\"\n",
    "#                 best_acc = test_acc\n",
    "                \n",
    "# print(f\"Best parameters are {best_params}\")\n",
    "# print(f\"Best accuracy is {best_acc}\")"
   ]
  },
  {
   "cell_type": "code",
   "execution_count": 71,
   "id": "c4a970c1",
   "metadata": {},
   "outputs": [
    {
     "data": {
      "text/html": [
       "<style>#sk-container-id-3 {color: black;background-color: white;}#sk-container-id-3 pre{padding: 0;}#sk-container-id-3 div.sk-toggleable {background-color: white;}#sk-container-id-3 label.sk-toggleable__label {cursor: pointer;display: block;width: 100%;margin-bottom: 0;padding: 0.3em;box-sizing: border-box;text-align: center;}#sk-container-id-3 label.sk-toggleable__label-arrow:before {content: \"▸\";float: left;margin-right: 0.25em;color: #696969;}#sk-container-id-3 label.sk-toggleable__label-arrow:hover:before {color: black;}#sk-container-id-3 div.sk-estimator:hover label.sk-toggleable__label-arrow:before {color: black;}#sk-container-id-3 div.sk-toggleable__content {max-height: 0;max-width: 0;overflow: hidden;text-align: left;background-color: #f0f8ff;}#sk-container-id-3 div.sk-toggleable__content pre {margin: 0.2em;color: black;border-radius: 0.25em;background-color: #f0f8ff;}#sk-container-id-3 input.sk-toggleable__control:checked~div.sk-toggleable__content {max-height: 200px;max-width: 100%;overflow: auto;}#sk-container-id-3 input.sk-toggleable__control:checked~label.sk-toggleable__label-arrow:before {content: \"▾\";}#sk-container-id-3 div.sk-estimator input.sk-toggleable__control:checked~label.sk-toggleable__label {background-color: #d4ebff;}#sk-container-id-3 div.sk-label input.sk-toggleable__control:checked~label.sk-toggleable__label {background-color: #d4ebff;}#sk-container-id-3 input.sk-hidden--visually {border: 0;clip: rect(1px 1px 1px 1px);clip: rect(1px, 1px, 1px, 1px);height: 1px;margin: -1px;overflow: hidden;padding: 0;position: absolute;width: 1px;}#sk-container-id-3 div.sk-estimator {font-family: monospace;background-color: #f0f8ff;border: 1px dotted black;border-radius: 0.25em;box-sizing: border-box;margin-bottom: 0.5em;}#sk-container-id-3 div.sk-estimator:hover {background-color: #d4ebff;}#sk-container-id-3 div.sk-parallel-item::after {content: \"\";width: 100%;border-bottom: 1px solid gray;flex-grow: 1;}#sk-container-id-3 div.sk-label:hover label.sk-toggleable__label {background-color: #d4ebff;}#sk-container-id-3 div.sk-serial::before {content: \"\";position: absolute;border-left: 1px solid gray;box-sizing: border-box;top: 0;bottom: 0;left: 50%;z-index: 0;}#sk-container-id-3 div.sk-serial {display: flex;flex-direction: column;align-items: center;background-color: white;padding-right: 0.2em;padding-left: 0.2em;position: relative;}#sk-container-id-3 div.sk-item {position: relative;z-index: 1;}#sk-container-id-3 div.sk-parallel {display: flex;align-items: stretch;justify-content: center;background-color: white;position: relative;}#sk-container-id-3 div.sk-item::before, #sk-container-id-3 div.sk-parallel-item::before {content: \"\";position: absolute;border-left: 1px solid gray;box-sizing: border-box;top: 0;bottom: 0;left: 50%;z-index: -1;}#sk-container-id-3 div.sk-parallel-item {display: flex;flex-direction: column;z-index: 1;position: relative;background-color: white;}#sk-container-id-3 div.sk-parallel-item:first-child::after {align-self: flex-end;width: 50%;}#sk-container-id-3 div.sk-parallel-item:last-child::after {align-self: flex-start;width: 50%;}#sk-container-id-3 div.sk-parallel-item:only-child::after {width: 0;}#sk-container-id-3 div.sk-dashed-wrapped {border: 1px dashed gray;margin: 0 0.4em 0.5em 0.4em;box-sizing: border-box;padding-bottom: 0.4em;background-color: white;}#sk-container-id-3 div.sk-label label {font-family: monospace;font-weight: bold;display: inline-block;line-height: 1.2em;}#sk-container-id-3 div.sk-label-container {text-align: center;}#sk-container-id-3 div.sk-container {/* jupyter's `normalize.less` sets `[hidden] { display: none; }` but bootstrap.min.css set `[hidden] { display: none !important; }` so we also need the `!important` here to be able to override the default hidden behavior on the sphinx rendered scikit-learn.org. See: https://github.com/scikit-learn/scikit-learn/issues/21755 */display: inline-block !important;position: relative;}#sk-container-id-3 div.sk-text-repr-fallback {display: none;}</style><div id=\"sk-container-id-3\" class=\"sk-top-container\"><div class=\"sk-text-repr-fallback\"><pre>RandomForestClassifier(max_depth=5, n_estimators=50)</pre><b>In a Jupyter environment, please rerun this cell to show the HTML representation or trust the notebook. <br />On GitHub, the HTML representation is unable to render, please try loading this page with nbviewer.org.</b></div><div class=\"sk-container\" hidden><div class=\"sk-item\"><div class=\"sk-estimator sk-toggleable\"><input class=\"sk-toggleable__control sk-hidden--visually\" id=\"sk-estimator-id-3\" type=\"checkbox\" checked><label for=\"sk-estimator-id-3\" class=\"sk-toggleable__label sk-toggleable__label-arrow\">RandomForestClassifier</label><div class=\"sk-toggleable__content\"><pre>RandomForestClassifier(max_depth=5, n_estimators=50)</pre></div></div></div></div></div>"
      ],
      "text/plain": [
       "RandomForestClassifier(max_depth=5, n_estimators=50)"
      ]
     },
     "execution_count": 71,
     "metadata": {},
     "output_type": "execute_result"
    }
   ],
   "source": [
    "r_forest = RandomForestClassifier(n_estimators=50,criterion='gini', max_depth=5)\n",
    "\n",
    "r_forest.fit(X_train, y_train)"
   ]
  },
  {
   "cell_type": "code",
   "execution_count": 72,
   "id": "aac1bf1e",
   "metadata": {},
   "outputs": [],
   "source": [
    "y_pred = r_forest.predict(X_test)"
   ]
  },
  {
   "cell_type": "code",
   "execution_count": 73,
   "id": "d717cacd",
   "metadata": {},
   "outputs": [
    {
     "data": {
      "image/png": "[encoded data removed]",
      "text/plain": [
       "<Figure size 800x600 with 2 Axes>"
      ]
     },
     "metadata": {},
     "output_type": "display_data"
    }
   ],
   "source": [
    "cm = confusion_matrix(y_test, y_pred)\n",
    "\n",
    "graph = ConfusionMatrixDisplay(cm,display_labels=r_forest.classes_)\n",
    "\n",
    "graph.plot()\n",
    "\n",
    "plt.show();"
   ]
  },
  {
   "cell_type": "code",
   "execution_count": 74,
   "id": "e48e96c1",
   "metadata": {
    "scrolled": true
   },
   "outputs": [
    {
     "name": "stdout",
     "output_type": "stream",
     "text": [
      "              precision    recall  f1-score   support\n",
      "\n",
      "           0       0.60      0.80      0.69     24242\n",
      "           1       0.71      0.47      0.57     24397\n",
      "\n",
      "    accuracy                           0.64     48639\n",
      "   macro avg       0.65      0.64      0.63     48639\n",
      "weighted avg       0.65      0.64      0.63     48639\n",
      "\n"
     ]
    }
   ],
   "source": [
    "print(classification_report(y_test, y_pred))"
   ]
  },
  {
   "cell_type": "markdown",
   "id": "7575febc",
   "metadata": {},
   "source": [
    "### Although the performance of RF model is slightly better let's see if we can do any better"
   ]
  },
  {
   "cell_type": "code",
   "execution_count": 75,
   "id": "afc6ec02",
   "metadata": {},
   "outputs": [
    {
     "name": "stdout",
     "output_type": "stream",
     "text": [
      "Importance of Feature gender:, 0.039\n",
      "Importance of Feature year_of_birth:, 0.240\n",
      "Importance of Feature decades:, 0.055\n",
      "Importance of Feature age:, 0.224\n",
      "Importance of Feature mobile_type:, 0.012\n",
      "Importance of Feature week_number:, 0.007\n",
      "Importance of Feature revenue_usd:, 0.006\n",
      "Importance of Feature brand_name_revenue_mean:, 0.228\n",
      "Importance of Feature os_name_revenue_mean:, 0.189\n"
     ]
    }
   ],
   "source": [
    "for i, column in enumerate(sampled.drop(['system_status'], axis = 1)):\n",
    "    print('Importance of Feature {}:, {:.3f}'.format(column, r_forest.feature_importances_[i]))\n",
    "    \n",
    "    fi = pd.DataFrame({'Variable':[column],\n",
    "                            'Feature Importance Score': [r_forest.feature_importances_[i]]})\n",
    "    try:\n",
    "        final_fi = pd.concat([final_fi, fi], ignore_index=True)\n",
    "    except:\n",
    "        final_fi = feat_imp"
   ]
  },
  {
   "cell_type": "markdown",
   "id": "3abb549c",
   "metadata": {},
   "source": [
    "### XGBClassifier"
   ]
  },
  {
   "cell_type": "code",
   "execution_count": 76,
   "id": "5cb9db93",
   "metadata": {},
   "outputs": [],
   "source": [
    "from xgboost import XGBClassifier"
   ]
  },
  {
   "cell_type": "code",
   "execution_count": 77,
   "id": "e91aa0ac",
   "metadata": {},
   "outputs": [
    {
     "data": {
      "text/html": [
       "<style>#sk-container-id-4 {color: black;background-color: white;}#sk-container-id-4 pre{padding: 0;}#sk-container-id-4 div.sk-toggleable {background-color: white;}#sk-container-id-4 label.sk-toggleable__label {cursor: pointer;display: block;width: 100%;margin-bottom: 0;padding: 0.3em;box-sizing: border-box;text-align: center;}#sk-container-id-4 label.sk-toggleable__label-arrow:before {content: \"▸\";float: left;margin-right: 0.25em;color: #696969;}#sk-container-id-4 label.sk-toggleable__label-arrow:hover:before {color: black;}#sk-container-id-4 div.sk-estimator:hover label.sk-toggleable__label-arrow:before {color: black;}#sk-container-id-4 div.sk-toggleable__content {max-height: 0;max-width: 0;overflow: hidden;text-align: left;background-color: #f0f8ff;}#sk-container-id-4 div.sk-toggleable__content pre {margin: 0.2em;color: black;border-radius: 0.25em;background-color: #f0f8ff;}#sk-container-id-4 input.sk-toggleable__control:checked~div.sk-toggleable__content {max-height: 200px;max-width: 100%;overflow: auto;}#sk-container-id-4 input.sk-toggleable__control:checked~label.sk-toggleable__label-arrow:before {content: \"▾\";}#sk-container-id-4 div.sk-estimator input.sk-toggleable__control:checked~label.sk-toggleable__label {background-color: #d4ebff;}#sk-container-id-4 div.sk-label input.sk-toggleable__control:checked~label.sk-toggleable__label {background-color: #d4ebff;}#sk-container-id-4 input.sk-hidden--visually {border: 0;clip: rect(1px 1px 1px 1px);clip: rect(1px, 1px, 1px, 1px);height: 1px;margin: -1px;overflow: hidden;padding: 0;position: absolute;width: 1px;}#sk-container-id-4 div.sk-estimator {font-family: monospace;background-color: #f0f8ff;border: 1px dotted black;border-radius: 0.25em;box-sizing: border-box;margin-bottom: 0.5em;}#sk-container-id-4 div.sk-estimator:hover {background-color: #d4ebff;}#sk-container-id-4 div.sk-parallel-item::after {content: \"\";width: 100%;border-bottom: 1px solid gray;flex-grow: 1;}#sk-container-id-4 div.sk-label:hover label.sk-toggleable__label {background-color: #d4ebff;}#sk-container-id-4 div.sk-serial::before {content: \"\";position: absolute;border-left: 1px solid gray;box-sizing: border-box;top: 0;bottom: 0;left: 50%;z-index: 0;}#sk-container-id-4 div.sk-serial {display: flex;flex-direction: column;align-items: center;background-color: white;padding-right: 0.2em;padding-left: 0.2em;position: relative;}#sk-container-id-4 div.sk-item {position: relative;z-index: 1;}#sk-container-id-4 div.sk-parallel {display: flex;align-items: stretch;justify-content: center;background-color: white;position: relative;}#sk-container-id-4 div.sk-item::before, #sk-container-id-4 div.sk-parallel-item::before {content: \"\";position: absolute;border-left: 1px solid gray;box-sizing: border-box;top: 0;bottom: 0;left: 50%;z-index: -1;}#sk-container-id-4 div.sk-parallel-item {display: flex;flex-direction: column;z-index: 1;position: relative;background-color: white;}#sk-container-id-4 div.sk-parallel-item:first-child::after {align-self: flex-end;width: 50%;}#sk-container-id-4 div.sk-parallel-item:last-child::after {align-self: flex-start;width: 50%;}#sk-container-id-4 div.sk-parallel-item:only-child::after {width: 0;}#sk-container-id-4 div.sk-dashed-wrapped {border: 1px dashed gray;margin: 0 0.4em 0.5em 0.4em;box-sizing: border-box;padding-bottom: 0.4em;background-color: white;}#sk-container-id-4 div.sk-label label {font-family: monospace;font-weight: bold;display: inline-block;line-height: 1.2em;}#sk-container-id-4 div.sk-label-container {text-align: center;}#sk-container-id-4 div.sk-container {/* jupyter's `normalize.less` sets `[hidden] { display: none; }` but bootstrap.min.css set `[hidden] { display: none !important; }` so we also need the `!important` here to be able to override the default hidden behavior on the sphinx rendered scikit-learn.org. See: https://github.com/scikit-learn/scikit-learn/issues/21755 */display: inline-block !important;position: relative;}#sk-container-id-4 div.sk-text-repr-fallback {display: none;}</style><div id=\"sk-container-id-4\" class=\"sk-top-container\"><div class=\"sk-text-repr-fallback\"><pre>XGBClassifier(base_score=None, booster=None, callbacks=None,\n",
       "              colsample_bylevel=None, colsample_bynode=None,\n",
       "              colsample_bytree=None, early_stopping_rounds=None,\n",
       "              enable_categorical=False, eval_metric=None, feature_types=None,\n",
       "              gamma=None, gpu_id=None, grow_policy=None, importance_type=None,\n",
       "              interaction_constraints=None, learning_rate=None, max_bin=None,\n",
       "              max_cat_threshold=None, max_cat_to_onehot=None,\n",
       "              max_delta_step=None, max_depth=None, max_leaves=None,\n",
       "              min_child_weight=None, missing=nan, monotone_constraints=None,\n",
       "              n_estimators=100, n_jobs=None, num_parallel_tree=None,\n",
       "              predictor=None, random_state=None, ...)</pre><b>In a Jupyter environment, please rerun this cell to show the HTML representation or trust the notebook. <br />On GitHub, the HTML representation is unable to render, please try loading this page with nbviewer.org.</b></div><div class=\"sk-container\" hidden><div class=\"sk-item\"><div class=\"sk-estimator sk-toggleable\"><input class=\"sk-toggleable__control sk-hidden--visually\" id=\"sk-estimator-id-4\" type=\"checkbox\" checked><label for=\"sk-estimator-id-4\" class=\"sk-toggleable__label sk-toggleable__label-arrow\">XGBClassifier</label><div class=\"sk-toggleable__content\"><pre>XGBClassifier(base_score=None, booster=None, callbacks=None,\n",
       "              colsample_bylevel=None, colsample_bynode=None,\n",
       "              colsample_bytree=None, early_stopping_rounds=None,\n",
       "              enable_categorical=False, eval_metric=None, feature_types=None,\n",
       "              gamma=None, gpu_id=None, grow_policy=None, importance_type=None,\n",
       "              interaction_constraints=None, learning_rate=None, max_bin=None,\n",
       "              max_cat_threshold=None, max_cat_to_onehot=None,\n",
       "              max_delta_step=None, max_depth=None, max_leaves=None,\n",
       "              min_child_weight=None, missing=nan, monotone_constraints=None,\n",
       "              n_estimators=100, n_jobs=None, num_parallel_tree=None,\n",
       "              predictor=None, random_state=None, ...)</pre></div></div></div></div></div>"
      ],
      "text/plain": [
       "XGBClassifier(base_score=None, booster=None, callbacks=None,\n",
       "              colsample_bylevel=None, colsample_bynode=None,\n",
       "              colsample_bytree=None, early_stopping_rounds=None,\n",
       "              enable_categorical=False, eval_metric=None, feature_types=None,\n",
       "              gamma=None, gpu_id=None, grow_policy=None, importance_type=None,\n",
       "              interaction_constraints=None, learning_rate=None, max_bin=None,\n",
       "              max_cat_threshold=None, max_cat_to_onehot=None,\n",
       "              max_delta_step=None, max_depth=None, max_leaves=None,\n",
       "              min_child_weight=None, missing=nan, monotone_constraints=None,\n",
       "              n_estimators=100, n_jobs=None, num_parallel_tree=None,\n",
       "              predictor=None, random_state=None, ...)"
      ]
     },
     "execution_count": 77,
     "metadata": {},
     "output_type": "execute_result"
    }
   ],
   "source": [
    "xgb = XGBClassifier()\n",
    "\n",
    "xgb.fit(X_train, y_train)"
   ]
  },
  {
   "cell_type": "code",
   "execution_count": 78,
   "id": "3f96168f",
   "metadata": {},
   "outputs": [
    {
     "data": {
      "image/png": "[encoded data removed]",
      "text/plain": [
       "<Figure size 800x600 with 2 Axes>"
      ]
     },
     "metadata": {},
     "output_type": "display_data"
    }
   ],
   "source": [
    "y_pred = xgb.predict(X_test)\n",
    "\n",
    "cm = confusion_matrix(y_test, y_pred)\n",
    "\n",
    "graph = ConfusionMatrixDisplay(cm, display_labels=r_forest.classes_)\n",
    "\n",
    "graph.plot()\n",
    "\n",
    "plt.show()"
   ]
  },
  {
   "cell_type": "code",
   "execution_count": 79,
   "id": "8379c7a5",
   "metadata": {},
   "outputs": [
    {
     "name": "stdout",
     "output_type": "stream",
     "text": [
      "              precision    recall  f1-score   support\n",
      "\n",
      "           0       0.79      0.96      0.86     24242\n",
      "           1       0.95      0.74      0.83     24397\n",
      "\n",
      "    accuracy                           0.85     48639\n",
      "   macro avg       0.87      0.85      0.85     48639\n",
      "weighted avg       0.87      0.85      0.85     48639\n",
      "\n"
     ]
    }
   ],
   "source": [
    "print(classification_report(y_test, y_pred))"
   ]
  },
  {
   "cell_type": "code",
   "execution_count": 80,
   "id": "c95e6249",
   "metadata": {},
   "outputs": [
    {
     "name": "stdout",
     "output_type": "stream",
     "text": [
      "Importance of Feature gender:, 0.143\n",
      "Importance of Feature year_of_birth:, 0.190\n",
      "Importance of Feature decades:, 0.000\n",
      "Importance of Feature age:, 0.000\n",
      "Importance of Feature mobile_type:, 0.148\n",
      "Importance of Feature week_number:, 0.048\n",
      "Importance of Feature revenue_usd:, 0.050\n",
      "Importance of Feature brand_name_revenue_mean:, 0.206\n",
      "Importance of Feature os_name_revenue_mean:, 0.214\n"
     ]
    }
   ],
   "source": [
    "for i, column in enumerate(sampled.drop(['system_status'], axis = 1)):\n",
    "    print('Importance of Feature {}:, {:.3f}'.format(column, xgb.feature_importances_[i]))\n",
    "    \n",
    "    fi = pd.DataFrame({'Variable':[column],\n",
    "                            'Feature Importance Score': [xgb.feature_importances_[i]]})\n",
    "    try:\n",
    "        final_fi = pd.concat([final_fi, fi], ignore_index=True)\n",
    "    except:\n",
    "        final_fi = feat_imp"
   ]
  },
  {
   "cell_type": "markdown",
   "id": "93fb565d",
   "metadata": {},
   "source": [
    "#### XGB model was able to predict the majority of 'Suspended' customers as well as the 'Active' ones"
   ]
  },
  {
   "cell_type": "code",
   "execution_count": null,
   "id": "99cf5531",
   "metadata": {},
   "outputs": [],
   "source": []
  }
 ],
 "metadata": {
  "kernelspec": {
   "display_name": "Python 3 (ipykernel)",
   "language": "python",
   "name": "python3"
  },
  "language_info": {
   "codemirror_mode": {
    "name": "ipython",
    "version": 3
   },
   "file_extension": ".py",
   "mimetype": "text/x-python",
   "name": "python",
   "nbconvert_exporter": "python",
   "pygments_lexer": "ipython3",
   "version": "3.9.12"
  }
 },
 "nbformat": 4,
 "nbformat_minor": 5
}
